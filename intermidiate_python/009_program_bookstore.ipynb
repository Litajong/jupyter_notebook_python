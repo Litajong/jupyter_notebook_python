{
  "cells": [
    {
      "metadata": {
        "trusted": true
      },
      "cell_type": "code",
      "source": "# Program: bookstore()\n# create and test bookstore()\n\n# - bookstore() takes 2 string arguments: book & price\n# - bookstore returns a string in sentence form\n# - bookstore() should call title_it_rtn() with book parameter\n# - gather input for book_entry and price_entry to use in calling bookstore()\n# - print the return value of bookstore()\n# - example of output:Title: The Adventures Of Sherlock Holmes, costs $12.99\n\n",
      "execution_count": 1,
      "outputs": []
    },
    {
      "metadata": {
        "trusted": true
      },
      "cell_type": "code",
      "source": "# [ ] create, call and test bookstore() function\n\ndef title_it_rtn(msg):\n    return msg.title()\n\ndef bookstore(book, price):\n    form = (\"Title: \" + title_it_rtn(book) + \", costs $\" + price)\n    return form\nbook_entry = input(\"Enter book title: \")\nprice_entry = input(\"Enter book Price: \")\n\nbookstore(book_entry, price_entry)",
      "execution_count": 6,
      "outputs": [
        {
          "output_type": "stream",
          "name": "stdout",
          "text": "Enter book title: harry potter\nEnter book Price: 39\n"
        },
        {
          "output_type": "execute_result",
          "execution_count": 6,
          "data": {
            "text/plain": "'Title: Harry Potter, costs $39'"
          },
          "metadata": {}
        }
      ]
    }
  ],
  "metadata": {
    "kernelspec": {
      "name": "python3",
      "display_name": "Python 3",
      "language": "python"
    },
    "language_info": {
      "mimetype": "text/x-python",
      "nbconvert_exporter": "python",
      "name": "python",
      "file_extension": ".py",
      "version": "3.5.4",
      "pygments_lexer": "ipython3",
      "codemirror_mode": {
        "version": 3,
        "name": "ipython"
      }
    }
  },
  "nbformat": 4,
  "nbformat_minor": 1
}