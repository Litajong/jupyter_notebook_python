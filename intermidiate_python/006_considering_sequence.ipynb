{
  "cells": [
    {
      "metadata": {
        "trusted": true
      },
      "cell_type": "code",
      "source": "# Considering Sequence\n# Function definitions are placed at the beginning of a page of code.\n\nhave_hat = hat_available('green')  \n  \nprint('hat available is', have_hat)\n\ndef hat_available(color):\n    hat_colors = 'black, red, blue, green, white, grey, brown, pink'\n    return(color.lower() in hat_colors)\n    \n# This results in an error - the code flows from top to bottom is in the incorrect sequence\n# NameError: name 'hat_available' is not defined\n# In the statement have_hat = hat_available('green') the function hat_available() needs to be called after the function has been defined",
      "execution_count": 3,
      "outputs": [
        {
          "output_type": "error",
          "ename": "NameError",
          "evalue": "name 'hat_available' is not defined",
          "traceback": [
            "\u001b[0;31m---------------------------------------------------------------------------\u001b[0m",
            "\u001b[0;31mNameError\u001b[0m                                 Traceback (most recent call last)",
            "\u001b[0;32m<ipython-input-3-4c340d644300>\u001b[0m in \u001b[0;36m<module>\u001b[0;34m()\u001b[0m\n\u001b[1;32m      2\u001b[0m \u001b[0;31m# Function definitions are placed at the beginning of a page of code.\u001b[0m\u001b[0;34m\u001b[0m\u001b[0;34m\u001b[0m\u001b[0m\n\u001b[1;32m      3\u001b[0m \u001b[0;34m\u001b[0m\u001b[0m\n\u001b[0;32m----> 4\u001b[0;31m \u001b[0mhave_hat\u001b[0m \u001b[0;34m=\u001b[0m \u001b[0mhat_available\u001b[0m\u001b[0;34m(\u001b[0m\u001b[0;34m'green'\u001b[0m\u001b[0;34m)\u001b[0m\u001b[0;34m\u001b[0m\u001b[0m\n\u001b[0m\u001b[1;32m      5\u001b[0m \u001b[0;34m\u001b[0m\u001b[0m\n\u001b[1;32m      6\u001b[0m \u001b[0mprint\u001b[0m\u001b[0;34m(\u001b[0m\u001b[0;34m'hat available is'\u001b[0m\u001b[0;34m,\u001b[0m \u001b[0mhave_hat\u001b[0m\u001b[0;34m)\u001b[0m\u001b[0;34m\u001b[0m\u001b[0m\n",
            "\u001b[0;31mNameError\u001b[0m: name 'hat_available' is not defined"
          ]
        }
      ]
    },
    {
      "metadata": {
        "trusted": true
      },
      "cell_type": "code",
      "source": "\ndef hat_available(color):\n    hat_colors = 'black, red, blue, green, white, grey, brown, pink'\n    return(color.lower() in hat_colors)\n    \nhave_hat = hat_available('green')  \n\nprint('hat available is', have_hat)",
      "execution_count": 5,
      "outputs": [
        {
          "output_type": "stream",
          "text": "hat available is True\n",
          "name": "stdout"
        }
      ]
    }
  ],
  "metadata": {
    "kernelspec": {
      "name": "python3",
      "display_name": "Python 3",
      "language": "python"
    }
  },
  "nbformat": 4,
  "nbformat_minor": 1
}