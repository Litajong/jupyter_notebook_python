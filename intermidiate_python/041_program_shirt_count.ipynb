{
  "cells": [
    {
      "metadata": {
        "trusted": true
      },
      "cell_type": "code",
      "source": "# Program: Shirt Count\n\n# enter a sizes (S, M, L)\n# totally the count of each size\n# input \"exit\" when finished\n# report out the purchase of each shirt size\n# [ ] Create the Shirt Count program, run tests",
      "execution_count": null,
      "outputs": []
    },
    {
      "metadata": {
        "trusted": true
      },
      "cell_type": "code",
      "source": "shirt_count = 0\ns_shirts = 0\nm_shirts = 0\nl_shirts = 0\nnum_shirts = 10\n\nwhile True:\n    shirt_size = input('enter shirt size of \"s\", \"m\", \"l\", or \"exit\" (to finish)')\n    \n    if shirt_size.lower().startswith(\"e\"):\n        print()\n        break\n    elif shirt_size.lower() == \"s\":\n        s_shirts += 1\n    elif shirt_size.lower() == \"m\":\n        m_shirts += 1\n    elif shirt_size.lower() == \"l\":\n        l_shirts += 1\n    else:\n        print('invalid entry: please put only \"s\", \"m\", \"l\", or \"exit\"')\n    \n    shirt_count += 1\n    if shirt_count >= num_shirts:\n        print(\"\\nOut of stock! Thank you for shopping with us.\")\n        break\nprint(shirt_count, \"Shirts Total: \", s_shirts, \"S and\", m_shirts, \"M and\", l_shirts, \"L\",\"\\nThank you for shopping with us\")",
      "execution_count": 4,
      "outputs": [
        {
          "output_type": "stream",
          "name": "stdout",
          "text": "enter shirt size of \"s\", \"m\", \"l\", or \"exit\" (to finish)s\nenter shirt size of \"s\", \"m\", \"l\", or \"exit\" (to finish)m\nenter shirt size of \"s\", \"m\", \"l\", or \"exit\" (to finish)l\nenter shirt size of \"s\", \"m\", \"l\", or \"exit\" (to finish)exit\n\n3 Shirts Total:  1 S and 1 M and 1 L \nThank you for shopping with us\n"
        }
      ]
    },
    {
      "metadata": {
        "trusted": true
      },
      "cell_type": "code",
      "source": "",
      "execution_count": 3,
      "outputs": []
    },
    {
      "metadata": {
        "trusted": true
      },
      "cell_type": "code",
      "source": "",
      "execution_count": null,
      "outputs": []
    }
  ],
  "metadata": {
    "kernelspec": {
      "name": "python3",
      "display_name": "Python 3",
      "language": "python"
    },
    "language_info": {
      "mimetype": "text/x-python",
      "nbconvert_exporter": "python",
      "name": "python",
      "file_extension": ".py",
      "version": "3.5.4",
      "pygments_lexer": "ipython3",
      "codemirror_mode": {
        "version": 3,
        "name": "ipython"
      }
    }
  },
  "nbformat": 4,
  "nbformat_minor": 1
}