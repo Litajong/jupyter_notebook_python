{
 "cells": [
  {
   "cell_type": "code",
   "execution_count": 1,
   "metadata": {},
   "outputs": [],
   "source": [
    "# Program: pre_word() Function\n",
    "# Function has a single string parameter that it checks s is a single word starting with \"pre\"\n",
    "\n",
    "# Check if word starts with \"pre\"\n",
    "# Check if word .isalpha()\n",
    "# if all checks pass: return True\n",
    "# if any checks fail: return False\n",
    "# Test\n",
    "# - get input using the directions: *enter a word that starts with \"pre\": *\n",
    "# - call pre_word() with the input string\n",
    "# - test if return value is False and print message explaining not a \"pre\" word\n",
    "# - else print message explaining is a valid \"pre\" word"
   ]
  },
  {
   "cell_type": "code",
   "execution_count": 9,
   "metadata": {},
   "outputs": [
    {
     "name": "stdout",
     "output_type": "stream",
     "text": [
      "enter a word that starts with \"pre\": good\n",
      "Your word is not a \"pre\" word\n"
     ]
    }
   ],
   "source": [
    "your_word = input(\"enter a word that starts with \\\"pre\\\": \").lower()\n",
    "def pre_word(word):\n",
    "    if word.isalpha() and word.startswith(\"pre\"):\n",
    "        return True\n",
    "    else:\n",
    "        return \"Your word is not a \\\"pre\\\" word\"\n",
    "\n",
    "print(pre_word(your_word))"
   ]
  },
  {
   "cell_type": "code",
   "execution_count": null,
   "metadata": {},
   "outputs": [],
   "source": []
  }
 ],
 "metadata": {
  "kernelspec": {
   "display_name": "Python 3",
   "language": "python",
   "name": "python3"
  },
  "language_info": {
   "codemirror_mode": {
    "name": "ipython",
    "version": 3
   },
   "file_extension": ".py",
   "mimetype": "text/x-python",
   "name": "python",
   "nbconvert_exporter": "python",
   "pygments_lexer": "ipython3",
   "version": "3.5.4"
  }
 },
 "nbformat": 4,
 "nbformat_minor": 1
}
