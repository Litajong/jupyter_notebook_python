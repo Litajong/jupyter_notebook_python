{
  "cells": [
    {
      "metadata": {
        "trusted": true
      },
      "cell_type": "code",
      "source": "# Program: Long Number\n# Create variables\n# - int_num and get user input string of only digits\n# - long_num and initialize it as an empty string\n# Create a while loop that runs as long as the input is all digits\n# Inside the while loop\n# - add int_num to the end of long_num\n# - get user input for int_num again (inside while loop this time)\n# After the loop exits\n# - print the value of long_num",
      "execution_count": 1,
      "outputs": []
    },
    {
      "metadata": {
        "trusted": true
      },
      "cell_type": "code",
      "source": "int_num = input(\"enter digits: \")\nlong_num = \"\"\n\nwhile int_num.isdigit():\n    long_num = long_num + int_num\n    int_num = input(\"enter digits: \")\n    \nprint(\"the value of long_num is: \", long_num)",
      "execution_count": 5,
      "outputs": [
        {
          "output_type": "stream",
          "name": "stdout",
          "text": "enter digits: 90\nenter digits: 55\nenter digits: 77\nenter digits: 8\nenter digits: 33\nenter digits: p\nthe value of long_num is:  905577833\n"
        }
      ]
    },
    {
      "metadata": {
        "trusted": true
      },
      "cell_type": "code",
      "source": "# Task: Fix the Errors\n# This loop never runs\n# This is a logic error - there is no ErrorMessage, but the code doesn't work\n\ncount = 1\n\n# loop 5 times\nwhile count > 6:\n    print(count, \"x\", count, \"=\", count*count)\n    count +=1",
      "execution_count": 6,
      "outputs": []
    },
    {
      "metadata": {
        "trusted": true
      },
      "cell_type": "code",
      "source": "count = 1\n\nwhile count < 6:\n    print(count, \"x\", count, \"=\", count*count)\n    count +=1",
      "execution_count": 9,
      "outputs": [
        {
          "output_type": "stream",
          "text": "1 x 1 = 1\n2 x 2 = 4\n3 x 3 = 9\n4 x 4 = 16\n5 x 5 = 25\n",
          "name": "stdout"
        }
      ]
    },
    {
      "metadata": {
        "trusted": true
      },
      "cell_type": "code",
      "source": "",
      "execution_count": null,
      "outputs": []
    }
  ],
  "metadata": {
    "kernelspec": {
      "name": "python3",
      "display_name": "Python 3",
      "language": "python"
    },
    "language_info": {
      "mimetype": "text/x-python",
      "nbconvert_exporter": "python",
      "name": "python",
      "pygments_lexer": "ipython3",
      "version": "3.5.4",
      "file_extension": ".py",
      "codemirror_mode": {
        "version": 3,
        "name": "ipython"
      }
    }
  },
  "nbformat": 4,
  "nbformat_minor": 1
}