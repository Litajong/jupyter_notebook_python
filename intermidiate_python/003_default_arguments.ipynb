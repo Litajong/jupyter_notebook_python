{
  "cells": [
    {
      "metadata": {
        "trusted": true
      },
      "cell_type": "code",
      "source": "# Default Arguments\n# Default Arguments are used if no argument is supplied\n# Default arguments are assigned when creating the parameter list\n\ndef say_this(phrase = \"Hi\"):  \n      print(phrase)\n\nsay_this()",
      "execution_count": 2,
      "outputs": [
        {
          "output_type": "stream",
          "text": "Hi\n",
          "name": "stdout"
        }
      ]
    },
    {
      "metadata": {
        "trusted": true
      },
      "cell_type": "code",
      "source": "# yell_this() yells the string Argument provided\n\ndef yell_this(phrase):\n    print(phrase.upper() + \"!\")\n\n# call function with a string\nyell_this(\"It is time to save the notebook\")",
      "execution_count": 3,
      "outputs": [
        {
          "output_type": "stream",
          "text": "IT IS TIME TO SAVE THE NOTEBOOK!\n",
          "name": "stdout"
        }
      ]
    },
    {
      "metadata": {
        "trusted": true
      },
      "cell_type": "code",
      "source": "# use a default argument\ndef say_this(phrase = \"Hi\"):  \n    print(phrase)\n    \nsay_this()\nsay_this(\"Bye\")",
      "execution_count": 7,
      "outputs": [
        {
          "output_type": "stream",
          "text": "Hi\nBye\n",
          "name": "stdout"
        }
      ]
    },
    {
      "metadata": {
        "trusted": true
      },
      "cell_type": "code",
      "source": "# Task: Define yell_this() and call with variable argument\n\nwords_to_yell = input()\n\nyell_this(words_to_yell)",
      "execution_count": 8,
      "outputs": [
        {
          "output_type": "stream",
          "name": "stdout",
          "text": "I miss you!\nI MISS YOU!!\n"
        }
      ]
    }
  ],
  "metadata": {
    "kernelspec": {
      "name": "python3",
      "display_name": "Python 3",
      "language": "python"
    },
    "language_info": {
      "mimetype": "text/x-python",
      "nbconvert_exporter": "python",
      "name": "python",
      "pygments_lexer": "ipython3",
      "version": "3.5.4",
      "file_extension": ".py",
      "codemirror_mode": {
        "version": 3,
        "name": "ipython"
      }
    }
  },
  "nbformat": 4,
  "nbformat_minor": 1
}