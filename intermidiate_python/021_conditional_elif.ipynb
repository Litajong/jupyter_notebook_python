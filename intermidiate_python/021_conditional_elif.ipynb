{
  "cells": [
    {
      "metadata": {
        "trusted": true
      },
      "cell_type": "code",
      "source": "# Conditional elif\n# if means \"if a condition exists then do some task.\" if is usually followed by else\n# else means \"or else after we have tested if, then do an alternative task\"\n\n# When there is a need to test for multiple conditions there is elif\n# elif  statement follows  if, and means \"else, if \" another condition exists do something else\n# elif  can be used many times\n# else  is used after the last test condition (if or elif)\n\n# Like else, the elif only executes when the previous if conditional is False",
      "execution_count": 3,
      "outputs": []
    },
    {
      "metadata": {
        "trusted": true
      },
      "cell_type": "code",
      "source": "weather = input(\"Enter weather (sunny, rainy, snowy): \")\n\nif weather.lower() == \"sunny\":\n    print(\"Weare a t-shirt\")\nelif weather.lower() == \"rainy\":\n    print(\"Bring an umbrella and boots\")\nelif weather.lower() == \"snowy\":\n    print(\"Wear a warm coat and hat\")\nelse:\n    print(\"Sorry, not sure what to suggest for\", weather)",
      "execution_count": 2,
      "outputs": [
        {
          "output_type": "stream",
          "name": "stdout",
          "text": "Enter weather (sunny, rainy, snowy): rainy\nBring an umbrella and boots\n"
        }
      ]
    },
    {
      "metadata": {
        "trusted": true
      },
      "cell_type": "code",
      "source": "# Program: Shirt Sale\n# Complete program using   if, elif, else\n# Get user input for variable size (S, M, L)\n# reply with each shirt size and price (Small = $ 6, Medium = $ 7, Large = $ 8)\n# if the reply is other than S, M, L, give a message for not available\n# optional: add additional sizes\n# [ ] code and test SHIRT SALE\n\nyour_size = input(\"Enter your shirt size (S, M, L, XL): \")\n\nif your_size.lower() == \"s\":\n    print(\"S shirt price: Small = $ 6\")\nelif your_size.lower() == \"m\":\n    print(\"M shirt price: Medium = $ 7\")\nelif your_size.lower() == \"l\":\n    print(\"L shirt price: Large = $ 8\")\nelif your_size.lower() == \"xl\":\n    print(\"XL shirt price: Large = $ 9\")\nelse:\n    print(\"Please contact customer service\")",
      "execution_count": 5,
      "outputs": [
        {
          "output_type": "stream",
          "name": "stdout",
          "text": "Enter your shirt size (S, M, L, XL): m\nM shirt price: Medium = $ 7\n"
        }
      ]
    },
    {
      "metadata": {
        "trusted": true
      },
      "cell_type": "code",
      "source": "",
      "execution_count": null,
      "outputs": []
    }
  ],
  "metadata": {
    "kernelspec": {
      "name": "python3",
      "display_name": "Python 3",
      "language": "python"
    },
    "language_info": {
      "mimetype": "text/x-python",
      "nbconvert_exporter": "python",
      "name": "python",
      "pygments_lexer": "ipython3",
      "version": "3.5.4",
      "file_extension": ".py",
      "codemirror_mode": {
        "version": 3,
        "name": "ipython"
      }
    }
  },
  "nbformat": 4,
  "nbformat_minor": 1
}