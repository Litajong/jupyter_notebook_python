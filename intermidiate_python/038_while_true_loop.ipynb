{
  "cells": [
    {
      "metadata": {
        "trusted": true
      },
      "cell_type": "code",
      "source": "# while True loop\n# loops forever unless a break statement is used\n\nwhile True:\n    print('write forever, unless there is a \"break\"')\n    break",
      "execution_count": 1,
      "outputs": [
        {
          "output_type": "stream",
          "text": "write forever, unless there is a \"break\"\n",
          "name": "stdout"
        }
      ]
    },
    {
      "metadata": {
        "trusted": true
      },
      "cell_type": "code",
      "source": "number_guess = \"0\"\nsecret_number = \"5\"\n\nwhile True:\n    number_guess = input(\"guess the number 1 to 5: \")\n    if number_guess == secret_number:\n        print(\"Yes\", number_guess, \"is correct!\\n\")\n        break\n    else:\n        print(number_guess, \"is incorrect\\n\")",
      "execution_count": 5,
      "outputs": [
        {
          "output_type": "stream",
          "name": "stdout",
          "text": "guess the number 1 to 5: 1\n1 is incorrect\n\nguess the number 1 to 5: 2\n2 is incorrect\n\nguess the number 1 to 5: 3\n3 is incorrect\n\nguess the number 1 to 5: 4\n4 is incorrect\n\nguess the number 1 to 5: 5\nYes 5 is correct!\n\n"
        }
      ]
    },
    {
      "metadata": {
        "trusted": true
      },
      "cell_type": "code",
      "source": "while True:\n    f_name = input(\"enter a single word first name: \")\n    \n    if f_name.isalpha():\n        break\n    else:\n        print(f_name, \"is not a single word\\n\")\n\nprint(\"Welcome\", f_name + \"!\")",
      "execution_count": 7,
      "outputs": [
        {
          "output_type": "stream",
          "name": "stdout",
          "text": "enter a single word first name: L@lita\nL@lita is not a single word\n\nenter a single word first name: Lalita\nWelcome Lalita!\n"
        }
      ]
    },
    {
      "metadata": {
        "trusted": true
      },
      "cell_type": "code",
      "source": "while True:\n    weather = input(\"Enter weather(sunny, rainy, snowy, or quit): \")\n    print()\n    \n    if weather.lower() == \"sunny\":\n        print(\"Wear a t-shirt and sunscreen\")\n        break\n    elif weather.lower() == \"rainy\":\n        print(\"Bring an umbrella and boots\")\n        break\n    elif weather.lower() == \"snowy\":\n        print(\"Wear a warm coat and hat\")\n        break\n    elif weather.lower().startswith(\"q\"):\n        print('\"quit\" detected, exiting')\n        break\nelse:\n    print(\"Sorry, not sure what to suggest for\", weather +\"\\n\")",
      "execution_count": 8,
      "outputs": [
        {
          "output_type": "stream",
          "name": "stdout",
          "text": "Enter weather(sunny, rainy, snowy, or quit): hot\n\nEnter weather(sunny, rainy, snowy, or quit): sunny\n\nWear a t-shirt and sunscreen\n"
        }
      ]
    },
    {
      "metadata": {
        "trusted": true
      },
      "cell_type": "code",
      "source": "",
      "execution_count": null,
      "outputs": []
    }
  ],
  "metadata": {
    "kernelspec": {
      "name": "python3",
      "display_name": "Python 3",
      "language": "python"
    },
    "language_info": {
      "mimetype": "text/x-python",
      "nbconvert_exporter": "python",
      "name": "python",
      "pygments_lexer": "ipython3",
      "version": "3.5.4",
      "file_extension": ".py",
      "codemirror_mode": {
        "version": 3,
        "name": "ipython"
      }
    }
  },
  "nbformat": 4,
  "nbformat_minor": 1
}