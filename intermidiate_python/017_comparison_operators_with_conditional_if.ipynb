{
 "cells": [
  {
   "cell_type": "code",
   "execution_count": 1,
   "metadata": {
    "scrolled": true
   },
   "outputs": [
    {
     "name": "stdout",
     "output_type": "stream",
     "text": [
      "x was 21\n"
     ]
    }
   ],
   "source": [
    "# Comparison Operators in Conditionals \"if\"\n",
    "\n",
    "x = 21\n",
    "\n",
    "if x > 25:\n",
    "    print(\"x is already bigger than 25\")\n",
    "else:\n",
    "    print(\"x was\", x)\n",
    "   "
   ]
  },
  {
   "cell_type": "code",
   "execution_count": 3,
   "metadata": {},
   "outputs": [
    {
     "name": "stdout",
     "output_type": "stream",
     "text": [
      "x was 53\n",
      "now x is 68\n"
     ]
    }
   ],
   "source": [
    "x = 53\n",
    "\n",
    "if x > 57:\n",
    "    print(\"x is already bigger than 57\")\n",
    "else:\n",
    "    print(\"x was\", x)\n",
    "    x = 68\n",
    "    print(\"now x is\", x)"
   ]
  },
  {
   "cell_type": "code",
   "execution_count": 6,
   "metadata": {},
   "outputs": [
    {
     "name": "stdout",
     "output_type": "stream",
     "text": [
      "Position is 16 ....GAME OVER!\n"
     ]
    }
   ],
   "source": [
    "position = 16\n",
    "trap_value = 16\n",
    "\n",
    "if position != trap_value:\n",
    "    print(\"....keep playing!\")\n",
    "else:\n",
    "    print(\"Position is\", trap_value, \"....GAME OVER!\")"
   ]
  },
  {
   "cell_type": "code",
   "execution_count": 17,
   "metadata": {},
   "outputs": [
    {
     "name": "stdout",
     "output_type": "stream",
     "text": [
      "\"==\" tests for, \"is equal to\"\n"
     ]
    }
   ],
   "source": [
    "# DON'T ASSIGN (x = 2) when you mean to COMPARE (x == 2)\n",
    "\n",
    "x = 2\n",
    "\n",
    "if x == 2:\n",
    "    print('\"==\" tests for, \"is equal to\"')\n",
    "else:\n",
    "    pass"
   ]
  },
  {
   "cell_type": "code",
   "execution_count": 10,
   "metadata": {},
   "outputs": [
    {
     "name": "stdout",
     "output_type": "stream",
     "text": [
      "Pass: x + 18 is equal to 36\n"
     ]
    }
   ],
   "source": [
    "x = 18\n",
    "if x + 18 == x + x:\n",
    "    print(\"Pass: x + 18 is equal to\", x + x)\n",
    "else:\n",
    "    print(\"Fail: x + 18 is not equal to\", x + x)"
   ]
  },
  {
   "cell_type": "code",
   "execution_count": 15,
   "metadata": {},
   "outputs": [
    {
     "name": "stdout",
     "output_type": "stream",
     "text": [
      "x is 18\n"
     ]
    }
   ],
   "source": [
    "x = 18\n",
    "test_value = 18\n",
    "\n",
    "if x != test_value:\n",
    "    print('x is not', test_value)\n",
    "else:\n",
    "    print('x is', test_value)"
   ]
  },
  {
   "cell_type": "code",
   "execution_count": 25,
   "metadata": {},
   "outputs": [
    {
     "name": "stdout",
     "output_type": "stream",
     "text": [
      "y greater than or equal x + x is True\n"
     ]
    }
   ],
   "source": [
    "# Task\n",
    "# [ ] create an if/else statement that tests if y is greater than or equal x + x \n",
    "# [ ] print output: \"y greater than or equal x + x is\" True/False ...or a similar output\n",
    "\n",
    "x = 8\n",
    "y = x + 8\n",
    "\n",
    "if y >= x + x:\n",
    "    print(\"y greater than or equal x + x is\", y >= x + x)\n",
    "else:\n",
    "    print(\"y greater than or equal x + x is\", y >= x + x)"
   ]
  }
 ],
 "metadata": {
  "kernelspec": {
   "display_name": "Python 3",
   "language": "python",
   "name": "python3"
  },
  "language_info": {
   "codemirror_mode": {
    "name": "ipython",
    "version": 3
   },
   "file_extension": ".py",
   "mimetype": "text/x-python",
   "name": "python",
   "nbconvert_exporter": "python",
   "pygments_lexer": "ipython3",
   "version": "3.5.4"
  }
 },
 "nbformat": 4,
 "nbformat_minor": 1
}
