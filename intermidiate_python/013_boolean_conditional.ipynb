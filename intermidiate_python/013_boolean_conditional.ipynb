{
  "cells": [
    {
      "metadata": {
        "trusted": true
      },
      "cell_type": "code",
      "source": "# Boolean Conditional\n\nif True:\n    print(\"True means do someting\")\nelse:\n    print(\"Not True means do someting else\")",
      "execution_count": 2,
      "outputs": [
        {
          "output_type": "stream",
          "text": "True means do someting\n",
          "name": "stdout"
        }
      ]
    },
    {
      "metadata": {
        "trusted": true
      },
      "cell_type": "code",
      "source": "if False:\n    print(\"True means do someting\")\nelse:\n    print(\"Not True means do someting else\")",
      "execution_count": 4,
      "outputs": [
        {
          "output_type": "stream",
          "text": "Not True means do someting else\n",
          "name": "stdout"
        }
      ]
    },
    {
      "metadata": {
        "trusted": true
      },
      "cell_type": "code",
      "source": "hot_tea = True\n\nif hot_tea:\n    print(\"enjoy some hot tea!\")\nelse:\n    print(\"enjoy some tea, and perhaps try hot tea next time.\")",
      "execution_count": 6,
      "outputs": [
        {
          "output_type": "stream",
          "text": "enjoy some hot tea!\n",
          "name": "stdout"
        }
      ]
    },
    {
      "metadata": {
        "trusted": true
      },
      "cell_type": "code",
      "source": "nice_weather = False\n\nif nice_weather:\n    print(\"going outside\")\nelse:\n    pass",
      "execution_count": 9,
      "outputs": []
    },
    {
      "metadata": {
        "trusted": true
      },
      "cell_type": "code",
      "source": "# Task:Using Boolean with if, else\n# Give a weather report using if, else\n\nsunny_today = True\n# [ ] test if it is sunny_today and give proper responses using if and else\n\nif sunny_today:\n    print(\"let's do sun bath!\")",
      "execution_count": 11,
      "outputs": [
        {
          "output_type": "stream",
          "text": "let's do sun bath!\n",
          "name": "stdout"
        }
      ]
    },
    {
      "metadata": {
        "trusted": true
      },
      "cell_type": "code",
      "source": "sunny_today = False\n# [ ] use code you created above and test sunny_today = False\n\nif sunny_today:\n    print(\"let's do sun bath!\")\nelse:\n    print(\"let's play games at home\")",
      "execution_count": 13,
      "outputs": [
        {
          "output_type": "stream",
          "text": "let's play games at home\n",
          "name": "stdout"
        }
      ]
    }
  ],
  "metadata": {
    "kernelspec": {
      "name": "python3",
      "display_name": "Python 3",
      "language": "python"
    },
    "language_info": {
      "mimetype": "text/x-python",
      "nbconvert_exporter": "python",
      "name": "python",
      "pygments_lexer": "ipython3",
      "version": "3.5.4",
      "file_extension": ".py",
      "codemirror_mode": {
        "version": 3,
        "name": "ipython"
      }
    }
  },
  "nbformat": 4,
  "nbformat_minor": 1
}