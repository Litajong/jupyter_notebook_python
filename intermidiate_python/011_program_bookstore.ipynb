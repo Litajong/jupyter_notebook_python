{
 "cells": [
  {
   "cell_type": "code",
   "execution_count": 6,
   "metadata": {},
   "outputs": [],
   "source": [
    "# Program: fishstore()\n",
    "# create and test fishstore()\n",
    "\n",
    "# - fishstore() takes 2 string arguments: fish & price\n",
    "# - fishstore returns a string in sentence form\n",
    "# - gather input for fish_entry and price_entry to use in calling fishstore()\n",
    "# - print the return value of fishstore()\n",
    "# - example of output: Fish Type: Guppy costs $1\n"
   ]
  },
  {
   "cell_type": "code",
   "execution_count": 7,
   "metadata": {},
   "outputs": [
    {
     "name": "stdout",
     "output_type": "stream",
     "text": [
      "enter fish type: Salmon\n",
      "enter fish price: 29\n",
      "Fish Type: Salmon costs $29\n"
     ]
    }
   ],
   "source": [
    "def fishstore(fish , price):\n",
    "    return(\"Fish Type: \" + fish + \" costs $\" + price)\n",
    "\n",
    "def get_fish():\n",
    "    fish_entry = input(\"enter fish type: \")\n",
    "    return fish_entry\n",
    "\n",
    "def get_price():\n",
    "    price_entry = input(\"enter fish price: \")\n",
    "    return price_entry\n",
    "\n",
    "print(fishstore(get_fish() , get_price()))"
   ]
  },
  {
   "cell_type": "code",
   "execution_count": 4,
   "metadata": {},
   "outputs": [
    {
     "name": "stdout",
     "output_type": "stream",
     "text": [
      "enter fish type: Salmon\n",
      "enter fish price: 29\n"
     ]
    },
    {
     "data": {
      "text/plain": [
       "'Fish Type: Salmon costs $29'"
      ]
     },
     "execution_count": 4,
     "metadata": {},
     "output_type": "execute_result"
    }
   ],
   "source": [
    "def fishstore(fish , price):\n",
    "    return(\"Fish Type: \" + fish + \" costs $\" + price)\n",
    "\n",
    "fish_entry = input(\"enter fish type: \")\n",
    "price_entry = input(\"enter fish price: \")\n",
    "\n",
    "fishstore(fish_entry , price_entry)"
   ]
  }
 ],
 "metadata": {
  "kernelspec": {
   "display_name": "Python 3",
   "language": "python",
   "name": "python3"
  },
  "language_info": {
   "codemirror_mode": {
    "name": "ipython",
    "version": 3
   },
   "file_extension": ".py",
   "mimetype": "text/x-python",
   "name": "python",
   "nbconvert_exporter": "python",
   "pygments_lexer": "ipython3",
   "version": "3.5.4"
  }
 },
 "nbformat": 4,
 "nbformat_minor": 1
}
