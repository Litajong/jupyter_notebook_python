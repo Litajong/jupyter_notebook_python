{
  "cells": [
    {
      "metadata": {
        "trusted": true
      },
      "cell_type": "code",
      "source": "# Letter Guess\n# create letter_guess() function that gives user 3 guesses\n\n# - takes a letter character argument for the answer letter\n# - gets user input for letter guess\n# - calls check_guess() with answer and guess\n# - End letter_guess if\n#   - check_guess() equals True, return True\n#   - or after 3 failed attempts, return False\n# [ ] create letter_guess() function, call the function to test",
      "execution_count": null,
      "outputs": []
    },
    {
      "metadata": {
        "trusted": true
      },
      "cell_type": "code",
      "source": "def check_guess(answer, guess):\n    if answer == guess:\n        return True\n    else:\n        return False\n    \ndef letter_guess():\n    answer = \"b\"\n    guess = input(\"Enter first guess a-z: \").lower()\n    \n    if check_guess(answer, guess):\n        return True\n    else:\n        guess = input(\"Enter second guess a-z: \").lower()\n        if check_guess(answer, guess):\n            return True\n        else:\n            guess = input(\"Enter third guess a-z: \").lower()\n            if check_guess(answer, guess):\n                return True\n            else:\n                return False\n    \nprint(letter_guess())    ",
      "execution_count": 8,
      "outputs": [
        {
          "output_type": "stream",
          "name": "stdout",
          "text": "Enter first guess a-z: b\nTrue\n"
        }
      ]
    },
    {
      "metadata": {
        "trusted": true
      },
      "cell_type": "code",
      "source": "",
      "execution_count": null,
      "outputs": []
    },
    {
      "metadata": {
        "trusted": true
      },
      "cell_type": "code",
      "source": "",
      "execution_count": null,
      "outputs": []
    }
  ],
  "metadata": {
    "kernelspec": {
      "name": "python3",
      "display_name": "Python 3",
      "language": "python"
    },
    "language_info": {
      "mimetype": "text/x-python",
      "nbconvert_exporter": "python",
      "name": "python",
      "file_extension": ".py",
      "version": "3.5.4",
      "pygments_lexer": "ipython3",
      "codemirror_mode": {
        "version": 3,
        "name": "ipython"
      }
    }
  },
  "nbformat": 4,
  "nbformat_minor": 1
}