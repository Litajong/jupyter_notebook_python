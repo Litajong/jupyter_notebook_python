{
  "cells": [
    {
      "metadata": {
        "trusted": true
      },
      "cell_type": "code",
      "source": "# while loop with Boolean comparisons\n\ngreat_count = 5\n\nwhile great_count > 0:\n    print(great_count, \"!\")\n    great_count -= 1\n\nprint(\"\\nIGNITION!\")",
      "execution_count": 2,
      "outputs": [
        {
          "output_type": "stream",
          "text": "5 !\n4 !\n3 !\n2 !\n1 !\n\nIGNITION!\n",
          "name": "stdout"
        }
      ]
    },
    {
      "metadata": {
        "trusted": true
      },
      "cell_type": "code",
      "source": "seat_count = 0\n\nwhile seat_count <= 4:\n    print(\"seat count\", seat_count)\n    seat_count = seat_count + 1",
      "execution_count": 3,
      "outputs": [
        {
          "output_type": "stream",
          "text": "seat count 0\nseat count 1\nseat count 2\nseat count 3\nseat count 4\n",
          "name": "stdout"
        }
      ]
    },
    {
      "metadata": {
        "trusted": true
      },
      "cell_type": "code",
      "source": "",
      "execution_count": null,
      "outputs": []
    }
  ],
  "metadata": {
    "kernelspec": {
      "name": "python3",
      "display_name": "Python 3",
      "language": "python"
    },
    "language_info": {
      "mimetype": "text/x-python",
      "nbconvert_exporter": "python",
      "name": "python",
      "file_extension": ".py",
      "version": "3.5.4",
      "pygments_lexer": "ipython3",
      "codemirror_mode": {
        "version": 3,
        "name": "ipython"
      }
    }
  },
  "nbformat": 4,
  "nbformat_minor": 1
}