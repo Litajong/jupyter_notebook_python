{
  "cells": [
    {
      "metadata": {
        "trusted": true
      },
      "cell_type": "code",
      "source": "# Program defines and calls the say_hi & three_three functions\n# [ ] review and run the code\n\ndef say_hi():\n    print(\"Hello there!\")\n    print(\"goodbye\")\n# end of indentation ends the function\n\n# define three_three \ndef three_three():\n    print(33) \n    \n# calling the functions\nsay_hi()\nprint()\nthree_three()",
      "execution_count": 1,
      "outputs": [
        {
          "output_type": "stream",
          "text": "Hello there!\ngoodbye\n\n33\n",
          "name": "stdout"
        }
      ]
    },
    {
      "metadata": {
        "trusted": true
      },
      "cell_type": "code",
      "source": "# Task2 : Define and call a simple function   yell_it()\n# yell_it()   prints the phrase with \"!\" concatenated to the end\n# takes no arguments\n# indented function code does the following\n# define a variable for called phrase and initialize with a short phrase\n# prints phrase as all upper-case letters followed by \"!\"\n# call   yell_it   at the bottom of the cell after the function  def (Tip: no indentation should be used)\n# define (def) a simple function called yell_it() and call the function\n\ndef yell_it(phrase):\n    print(phrase.upper()+\"!\")\n    \nyell_it(\"i love you\")",
      "execution_count": 10,
      "outputs": [
        {
          "output_type": "stream",
          "text": "I LOVE YOU!\n",
          "name": "stdout"
        }
      ]
    },
    {
      "metadata": {
        "trusted": true
      },
      "cell_type": "code",
      "source": "",
      "execution_count": null,
      "outputs": []
    }
  ],
  "metadata": {
    "kernelspec": {
      "name": "python3",
      "display_name": "Python 3",
      "language": "python"
    },
    "language_info": {
      "mimetype": "text/x-python",
      "nbconvert_exporter": "python",
      "name": "python",
      "pygments_lexer": "ipython3",
      "version": "3.5.4",
      "file_extension": ".py",
      "codemirror_mode": {
        "version": 3,
        "name": "ipython"
      }
    }
  },
  "nbformat": 4,
  "nbformat_minor": 1
}