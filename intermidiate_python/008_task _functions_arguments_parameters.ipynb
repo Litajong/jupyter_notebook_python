{
  "cells": [
    {
      "metadata": {
        "trusted": true
      },
      "cell_type": "code",
      "source": "# Task: Functions Arguments & Parameters\n# [ ] define and call a function short_rhyme() that prints a 2 line rhyme\n\ndef short_rhyme(first, second, third,forth, fifth, sixth):\n    print(first, second, third, \"\\n\" + forth, fifth, sixth)\n\nfunction_sentences = short_rhyme(\"You\", \"love\", \"me\", \"and\", \"I\", \"love you\")",
      "execution_count": 15,
      "outputs": [
        {
          "output_type": "stream",
          "text": "You love me \nand I love you\n",
          "name": "stdout"
        }
      ]
    },
    {
      "metadata": {
        "trusted": true
      },
      "cell_type": "code",
      "source": "# [ ] define (def) a simple function: title_it() and call the function\n# - has a string parameter: msg\n# - prints msg in Title Case\n\ndef title_it(msg):\n    print(msg.title())\n\nmy_msg = \"today is sunday\"\ntitle_it(my_msg)",
      "execution_count": 14,
      "outputs": [
        {
          "output_type": "stream",
          "text": "Today Is Sunday\n",
          "name": "stdout"
        }
      ]
    },
    {
      "metadata": {
        "trusted": true
      },
      "cell_type": "code",
      "source": "# [ ] get user input with prompt \"what is the title?\" \n# [ ] call title_it() using input for the string argument\n\nmy_msg = input(\"what is the title?\")\ntitle_it(my_msg)",
      "execution_count": 15,
      "outputs": [
        {
          "output_type": "stream",
          "name": "stdout",
          "text": "what is the title?today is a good day\nToday Is A Good Day\n"
        }
      ]
    },
    {
      "metadata": {
        "trusted": true
      },
      "cell_type": "code",
      "source": "# [ ] define title_it_rtn() which returns a titled string instead of printing\n\ndef title_it_rtn(msg):\n    return msg.title()\n\nmessage = \"the beautiful day\"\ntitle_it_rtn(message)",
      "execution_count": 14,
      "outputs": [
        {
          "output_type": "execute_result",
          "execution_count": 14,
          "data": {
            "text/plain": "'The Beautiful Day'"
          },
          "metadata": {}
        }
      ]
    },
    {
      "metadata": {
        "trusted": true
      },
      "cell_type": "code",
      "source": "# [ ] call title_it_rtn() using input for the string argument and print the result\nprint(title_it_rtn(input()))",
      "execution_count": 16,
      "outputs": [
        {
          "output_type": "stream",
          "name": "stdout",
          "text": "have a nice day\nHave A Nice Day\n"
        }
      ]
    },
    {
      "metadata": {
        "trusted": true
      },
      "cell_type": "code",
      "source": "def make_schedule(period1, period2):\n    schedule = (\"[1st] \" + period1.title() + \", [2nd] \" + period2.title())\n    return schedule\n\nstudent_schedule = make_schedule(\"mathematics\", \"history\")\nprint(\"SCHEDULE:\", student_schedule)",
      "execution_count": 17,
      "outputs": [
        {
          "output_type": "stream",
          "text": "SCHEDULE: [1st] Mathematics, [2nd] History\n",
          "name": "stdout"
        }
      ]
    },
    {
      "metadata": {
        "trusted": true
      },
      "cell_type": "code",
      "source": "",
      "execution_count": null,
      "outputs": []
    }
  ],
  "metadata": {
    "kernelspec": {
      "name": "python3",
      "display_name": "Python 3",
      "language": "python"
    },
    "language_info": {
      "mimetype": "text/x-python",
      "nbconvert_exporter": "python",
      "name": "python",
      "pygments_lexer": "ipython3",
      "version": "3.5.4",
      "file_extension": ".py",
      "codemirror_mode": {
        "version": 3,
        "name": "ipython"
      }
    }
  },
  "nbformat": 4,
  "nbformat_minor": 1
}