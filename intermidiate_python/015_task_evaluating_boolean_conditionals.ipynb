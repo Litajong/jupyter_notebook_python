{
 "cells": [
  {
   "cell_type": "code",
   "execution_count": 1,
   "metadata": {},
   "outputs": [
    {
     "name": "stdout",
     "output_type": "stream",
     "text": [
      "welcome is all lower\n",
      "I have $3 is not all lower\n"
     ]
    }
   ],
   "source": [
    "# Task: Evaluating Boolean Conditionals\n",
    "# create evaluations for .islower()\n",
    "# - print output describing if each of the 2 strings is all lower or not\n",
    "\n",
    "test_string_1 = \"welcome\"\n",
    "test_string_2 = \"I have $3\"\n",
    "\n",
    "# [ ] use if, else to test for islower() for the 2 strings\n",
    "\n",
    "if test_string_1.islower():\n",
    "    print(test_string_1 + \" is all lower\")\n",
    "else:\n",
    "    print(test_string_1 + \" is not all lower\")\n",
    "    \n",
    "if test_string_2.islower():\n",
    "    print(test_string_2 + \" is all lower\")\n",
    "else:\n",
    "    print(test_string_2 + \" is not all lower\")    "
   ]
  },
  {
   "cell_type": "code",
   "execution_count": 16,
   "metadata": {},
   "outputs": [
    {
     "name": "stdout",
     "output_type": "stream",
     "text": [
      "welcome start with 'w'\n",
      "I have $3 start with other\n",
      "With a function it's efficient to repeat code start with 'w'\n"
     ]
    }
   ],
   "source": [
    "# Task continued\n",
    "# create a functions using startswith('w')\n",
    "# w_start_test() tests if starts with \"w\"\n",
    "# function should have a parameter for test_string and print the test result\n",
    "\n",
    "def w_start_test(test_string):\n",
    "    if test_string.lower().startswith('w'):\n",
    "        print(test_string + \" start with 'w'\") \n",
    "    else:\n",
    "        print(test_string + \" start with other\") \n",
    "        \n",
    "test_string_1 = \"welcome\"\n",
    "test_string_2 = \"I have $3\"\n",
    "test_string_3 = \"With a function it's efficient to repeat code\"\n",
    "\n",
    "\n",
    "# [ ] Test the 3 string variables provided by calling w_start_test()\n",
    "\n",
    "w_start_test(test_string_1)\n",
    "w_start_test(test_string_2)\n",
    "w_start_test(test_string_3)"
   ]
  },
  {
   "cell_type": "code",
   "execution_count": null,
   "metadata": {},
   "outputs": [],
   "source": []
  }
 ],
 "metadata": {
  "kernelspec": {
   "display_name": "Python 3",
   "language": "python",
   "name": "python3"
  },
  "language_info": {
   "codemirror_mode": {
    "name": "ipython",
    "version": 3
   },
   "file_extension": ".py",
   "mimetype": "text/x-python",
   "name": "python",
   "nbconvert_exporter": "python",
   "pygments_lexer": "ipython3",
   "version": "3.5.4"
  }
 },
 "nbformat": 4,
 "nbformat_minor": 1
}
