{
  "cells": [
    {
      "metadata": {
        "trusted": true
      },
      "cell_type": "code",
      "source": "# optional practice\n\n# [ ] print a string that outputs the following exactly: The new line character is \"\\n\"\n\nprint('The new line character is \"\\\\n\"')",
      "execution_count": 7,
      "outputs": [
        {
          "output_type": "stream",
          "text": "The new line character is \"\\n\"\n",
          "name": "stdout"
        }
      ]
    },
    {
      "metadata": {
        "trusted": true
      },
      "cell_type": "code",
      "source": "# [ ] print output that is exactly (with quotes): \"That's how we escape!\"\n\nprint('\"That\\'s how we escape!\"')",
      "execution_count": 10,
      "outputs": [
        {
          "output_type": "stream",
          "text": "\"That's how we escape!\"\n",
          "name": "stdout"
        }
      ]
    },
    {
      "metadata": {
        "trusted": true
      },
      "cell_type": "code",
      "source": "# [ ] with only 1 print statement and using No Space Characters, output the text commented below  \n\n# 1       one\n# 22      two\n# 333     three\n\nprint(\"1\\tone\\n22\\ttwo\\n333\\tthree\")",
      "execution_count": 13,
      "outputs": [
        {
          "output_type": "stream",
          "text": "1\tone\n22\ttwo\n333\tthree\n",
          "name": "stdout"
        }
      ]
    },
    {
      "metadata": {
        "trusted": true
      },
      "cell_type": "code",
      "source": "",
      "execution_count": null,
      "outputs": []
    }
  ],
  "metadata": {
    "kernelspec": {
      "name": "python3",
      "display_name": "Python 3",
      "language": "python"
    },
    "language_info": {
      "mimetype": "text/x-python",
      "nbconvert_exporter": "python",
      "name": "python",
      "file_extension": ".py",
      "version": "3.5.4",
      "pygments_lexer": "ipython3",
      "codemirror_mode": {
        "version": 3,
        "name": "ipython"
      }
    }
  },
  "nbformat": 4,
  "nbformat_minor": 1
}