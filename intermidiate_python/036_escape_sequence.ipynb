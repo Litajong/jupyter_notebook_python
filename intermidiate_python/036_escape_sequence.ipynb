{
  "cells": [
    {
      "metadata": {
        "trusted": true
      },
      "cell_type": "code",
      "source": "# Escape Sequence\n# \\\\   Backslash (\\)\n# \\'   Single quote (')\n# \\\"   Double quote (\")\n# \\t   Tab\n# \\n   return or newline\n# We use escape sequences in strings - usually with print() statements",
      "execution_count": 1,
      "outputs": []
    },
    {
      "metadata": {
        "trusted": true
      },
      "cell_type": "code",
      "source": "# Newline - Carriage return\n\nprint(\"Hello World!\\nI am formatting print\")",
      "execution_count": 2,
      "outputs": [
        {
          "output_type": "stream",
          "text": "Hello World!\nI am formatting print\n",
          "name": "stdout"
        }
      ]
    },
    {
      "metadata": {
        "trusted": true
      },
      "cell_type": "code",
      "source": "# Tab\n\nstudent_age = 17\nstudent_name = \"Hiroto Yamaguchi\"\nprint(\"STUDENT NAME\\t\\tAGE\")\nprint(student_name,'\\t' + str(student_age))",
      "execution_count": 5,
      "outputs": [
        {
          "output_type": "stream",
          "text": "STUDENT NAME\t\tAGE\nHiroto Yamaguchi \t17\n",
          "name": "stdout"
        }
      ]
    },
    {
      "metadata": {
        "trusted": true
      },
      "cell_type": "code",
      "source": "# Quotes\n\nprint(\"\\\"quote in quotes\\\"\")",
      "execution_count": 6,
      "outputs": [
        {
          "output_type": "stream",
          "text": "\"quote in quotes\"\n",
          "name": "stdout"
        }
      ]
    },
    {
      "metadata": {
        "trusted": true
      },
      "cell_type": "code",
      "source": "print(\"I\\'ve said \\\"save your notebook,\\\"so let\\'s do it!'\")",
      "execution_count": 7,
      "outputs": [
        {
          "output_type": "stream",
          "text": "I've said \"save your notebook,\"so let's do it!'\n",
          "name": "stdout"
        }
      ]
    },
    {
      "metadata": {
        "trusted": true
      },
      "cell_type": "code",
      "source": "# Backslash \\\\ (escape backslash)\nprint(\"for a newline use \\\\n\")",
      "execution_count": 8,
      "outputs": [
        {
          "output_type": "stream",
          "text": "for a newline use \\n\n",
          "name": "stdout"
        }
      ]
    },
    {
      "metadata": {
        "trusted": true
      },
      "cell_type": "code",
      "source": "# Task: Format using backslash (\\) escape sequences\n\n# [ ] print \"\\\\\\WARNING!///\"\nprint(\"\\\"\\\\\\\\\\WARNING!///\\\"\")",
      "execution_count": 10,
      "outputs": [
        {
          "output_type": "stream",
          "text": "\"\\\\\\WARNING!///\"\n",
          "name": "stdout"
        }
      ]
    },
    {
      "metadata": {
        "trusted": true
      },
      "cell_type": "code",
      "source": "# [ ] print output that is exactly (with quotes): \"What's that?\" isn't a specific question.\nprint(\"\\\"What\\'s that?\\\" isn\\'t a specifice question\")",
      "execution_count": 11,
      "outputs": [
        {
          "output_type": "stream",
          "text": "\"What's that?\" isn't a specifice question\n",
          "name": "stdout"
        }
      ]
    },
    {
      "metadata": {
        "trusted": true
      },
      "cell_type": "code",
      "source": "print(\"\\\"What's that?\\\" isn't a specifice question\")",
      "execution_count": 12,
      "outputs": [
        {
          "output_type": "stream",
          "text": "\"What's that?\" isn't a specifice question\n",
          "name": "stdout"
        }
      ]
    },
    {
      "metadata": {
        "trusted": true
      },
      "cell_type": "code",
      "source": "# [ ] from 1 print statement output the text commented below using no spaces\n# One     Two     Three\n# Four    Five    Six\n\nprint(\"One\\tTwo\\tThree\\nFour\\tFive\\tSix\")",
      "execution_count": 13,
      "outputs": [
        {
          "output_type": "stream",
          "text": "One\tTwo\tThree\nFour\tFive\tSix\n",
          "name": "stdout"
        }
      ]
    },
    {
      "metadata": {
        "trusted": true
      },
      "cell_type": "code",
      "source": "# Task: Fix the errors\nprint(\"Hello\" + \\n + \"World!\")",
      "execution_count": 14,
      "outputs": [
        {
          "output_type": "error",
          "ename": "SyntaxError",
          "evalue": "unexpected character after line continuation character (<ipython-input-14-4ebaa0039723>, line 2)",
          "traceback": [
            "\u001b[0;36m  File \u001b[0;32m\"<ipython-input-14-4ebaa0039723>\"\u001b[0;36m, line \u001b[0;32m2\u001b[0m\n\u001b[0;31m    print(\"Hello\" + \\n + \"World!\")\u001b[0m\n\u001b[0m                                  ^\u001b[0m\n\u001b[0;31mSyntaxError\u001b[0m\u001b[0;31m:\u001b[0m unexpected character after line continuation character\n"
          ]
        }
      ]
    },
    {
      "metadata": {
        "trusted": true
      },
      "cell_type": "code",
      "source": "# Fixed task\nprint(\"Hello\\nWorld!\")",
      "execution_count": 16,
      "outputs": [
        {
          "output_type": "stream",
          "text": "Hello\nWorld!\n",
          "name": "stdout"
        }
      ]
    },
    {
      "metadata": {
        "trusted": true
      },
      "cell_type": "code",
      "source": "",
      "execution_count": null,
      "outputs": []
    }
  ],
  "metadata": {
    "kernelspec": {
      "name": "python3",
      "display_name": "Python 3",
      "language": "python"
    },
    "language_info": {
      "mimetype": "text/x-python",
      "nbconvert_exporter": "python",
      "name": "python",
      "pygments_lexer": "ipython3",
      "version": "3.5.4",
      "file_extension": ".py",
      "codemirror_mode": {
        "version": 3,
        "name": "ipython"
      }
    }
  },
  "nbformat": 4,
  "nbformat_minor": 1
}