{
  "cells": [
    {
      "metadata": {
        "trusted": true
      },
      "cell_type": "code",
      "source": "# control code flow with if... else conditional logic\n# - using Boolean string methods (.isupper(), .isalpha(), .startswith()...)\n# - using comparison (>, <, >=, <=, ==, !=)\n# - using Strings in comparisons",
      "execution_count": 1,
      "outputs": []
    },
    {
      "metadata": {
        "trusted": true
      },
      "cell_type": "code",
      "source": "# Task\n# [ ] input a variable: age as digit and cast to int\n# if age greater than or equal to 12 then print message on age in 10 years \n# or else print message \"It is good to be\" age\n\nyour_age = input(\"enter your age: \")\n\nif your_age.isalpha() == True:\n    print(\"age must be digit\")\nelif int(your_age) >= 12:\n    print(\"You will be \", int(your_age) + 10, \" in 10 years\")\nelse:\n    print(\"It is good to be \", your_age)",
      "execution_count": 13,
      "outputs": [
        {
          "output_type": "stream",
          "name": "stdout",
          "text": "enter your age: 8\nIt is good to be  8\n"
        }
      ]
    },
    {
      "metadata": {
        "trusted": true
      },
      "cell_type": "code",
      "source": "# Task\n# [ ] input a number \n# - if number IS a digit string then cast to int\n# - print number \"greater than 100 is\" True/False\n# - if number is NOT a digit string then message the user that \"only int is accepted\"\n\nmy_number = input(\"enter your number: \")\n\nif my_number.isdigit() == True:\n    print(my_number, \" greather than 100 is\", int(my_number) > 100)\nelse:\n    print(\"only int is accepted\")\n\n",
      "execution_count": 17,
      "outputs": [
        {
          "output_type": "stream",
          "name": "stdout",
          "text": "enter your number: ok\nonly int is accepted\n"
        }
      ]
    },
    {
      "metadata": {
        "trusted": true
      },
      "cell_type": "code",
      "source": "",
      "execution_count": null,
      "outputs": []
    }
  ],
  "metadata": {
    "kernelspec": {
      "name": "python3",
      "display_name": "Python 3",
      "language": "python"
    },
    "language_info": {
      "mimetype": "text/x-python",
      "nbconvert_exporter": "python",
      "name": "python",
      "file_extension": ".py",
      "version": "3.5.4",
      "pygments_lexer": "ipython3",
      "codemirror_mode": {
        "version": 3,
        "name": "ipython"
      }
    }
  },
  "nbformat": 4,
  "nbformat_minor": 1
}