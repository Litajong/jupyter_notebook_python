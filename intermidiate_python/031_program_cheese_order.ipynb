{
  "cells": [
    {
      "metadata": {
        "trusted": true
      },
      "cell_type": "code",
      "source": "# Program: Cheese Order\n# set values for maximum and minimum order variables\n# set value for price variable\n# get order_amount input and cast to a number\n# check order_amount and give message checking against\n# - over maximum\n# - under minimum\n# else within maximum and minimum give message with calculated price",
      "execution_count": 1,
      "outputs": []
    },
    {
      "metadata": {
        "trusted": true
      },
      "cell_type": "code",
      "source": "max_order = 100.00\nmin_order = 5.00\ncheese_order = input(\"Enter your cheese order weight: \")\n\nif float(cheese_order) > max_order:\n    print(cheese_order, \" is more than currently available stock.\")\nelif float(cheese_order) < min_order:\n    print(cheese_order, \" is below minimum order amount\")\nelse:\n    print(cheese_order, \"costs $\",float(cheese_order) * 7.99)",
      "execution_count": 19,
      "outputs": [
        {
          "output_type": "stream",
          "name": "stdout",
          "text": "Enter your cheese order weight: 89\n89 costs $ 711.11\n"
        }
      ]
    },
    {
      "metadata": {
        "trusted": true
      },
      "cell_type": "code",
      "source": "",
      "execution_count": null,
      "outputs": []
    }
  ],
  "metadata": {
    "kernelspec": {
      "name": "python3",
      "display_name": "Python 3",
      "language": "python"
    },
    "language_info": {
      "mimetype": "text/x-python",
      "nbconvert_exporter": "python",
      "name": "python",
      "pygments_lexer": "ipython3",
      "version": "3.5.4",
      "file_extension": ".py",
      "codemirror_mode": {
        "version": 3,
        "name": "ipython"
      }
    }
  },
  "nbformat": 4,
  "nbformat_minor": 1
}