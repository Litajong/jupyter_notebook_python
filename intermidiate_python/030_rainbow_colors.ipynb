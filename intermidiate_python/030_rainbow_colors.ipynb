{
  "cells": [
    {
      "metadata": {
        "trusted": true
      },
      "cell_type": "code",
      "source": "# Rainbow colors\n# ask for input of a favorite rainbow color first letter: ROYGBIV\n# Using if, elif, and else:\n\n#print the color matching the letter\n# R = Red\n# O = Orange\n# Y = Yellow\n# G = Green\n# B = Blue\n# I = Indigo\n# V = Violet\n# else print \"no match\"",
      "execution_count": 1,
      "outputs": []
    },
    {
      "metadata": {
        "trusted": true
      },
      "cell_type": "code",
      "source": "rainbow_color = input(\"Enter your favorite rainbow color (only first letter):\").upper()\n\nif rainbow_color == \"R\":\n    print('Your color is \"Red\"')\nelif rainbow_color == \"O\":\n    print('Your color is \"Orange\"')\nelif rainbow_color == \"Y\":\n    print('Your color is \"Yellow\"')\nelif rainbow_color == \"G\":\n    print('Your color is \"Green\"')\nelif rainbow_color == \"B\":\n    print('Your color is \"Blue\"')\nelif rainbow_color == \"I\":\n    print('Your color is \"Indigo\"')\nelif rainbow_color == \"V\":\n    print('Your color is \"Violet\"')\nelse:\n    print(\"No Match! Try again\")",
      "execution_count": 3,
      "outputs": [
        {
          "output_type": "stream",
          "name": "stdout",
          "text": "Enter your favorite rainbow color (only first letter):y\nYour clor is \"Yellow\"\n"
        }
      ]
    },
    {
      "metadata": {
        "slideshow": {
          "slide_type": "fragment"
        },
        "trusted": true
      },
      "cell_type": "code",
      "source": "# [ ] make the code above into a function rainbow_color() that has a string parameter, \n# get input and call the function and return the matching color as a string or \"no match\" message.\n# Call the function and print the return string.\n\ndef rbow_color(rainbow_color):\n    if rainbow_color == \"R\":\n        return \"Red\"\n    elif rainbow_color == \"O\":\n        return \"Orange\"\n    elif rainbow_color == \"Y\":\n        return \"Yellow\"\n    elif rainbow_color == \"G\":\n        return \"Green\"\n    elif rainbow_color == \"B\":\n        return \"Blue\"\n    elif rainbow_color == \"I\":\n        return \"Indigo\"\n    elif rainbow_color == \"V\":\n        return \"Violet\"\n    else:\n        return \"No Match! Try again\"\n        \nrainbow_color = input(\"Enter your favorite rainbow color (only first letter):\").upper()\nprint(\"Your color is\", rbow_color(rainbow_color))",
      "execution_count": 10,
      "outputs": [
        {
          "output_type": "stream",
          "name": "stdout",
          "text": "Enter your favorite rainbow color (only first letter):o\nYour color is Orange\n"
        }
      ]
    },
    {
      "metadata": {
        "trusted": true
      },
      "cell_type": "code",
      "source": "# Create function age_20() that adds or subtracts 20 from your age for a return value based on current age (use if)\n# call the funtion with user input and then use the return value in a sentence\n# example age_20(25) returns 5:\n#   \"5 years old, 20 years difference from now\"\n\n# [ ] complete age_20()\n\ndef age_20(age):\n    if int(age) >= 20:\n        return int(age) - 20\n    else:\n        return 20 - int(age)\n\nyour_age = input(\"Enter your age: \")\n\nif your_age.isdigit():\n    print(age_20(your_age), \"years old, 20 years difference from now\")\nelse:\n    print(\"Invalid age!\")",
      "execution_count": 21,
      "outputs": [
        {
          "output_type": "stream",
          "name": "stdout",
          "text": "Enter your age: 90\n70 years old, 20 years difference from now\n"
        }
      ]
    },
    {
      "metadata": {
        "trusted": true
      },
      "cell_type": "code",
      "source": "",
      "execution_count": null,
      "outputs": []
    }
  ],
  "metadata": {
    "kernelspec": {
      "name": "python3",
      "display_name": "Python 3",
      "language": "python"
    },
    "language_info": {
      "mimetype": "text/x-python",
      "nbconvert_exporter": "python",
      "name": "python",
      "file_extension": ".py",
      "version": "3.5.4",
      "pygments_lexer": "ipython3",
      "codemirror_mode": {
        "version": 3,
        "name": "ipython"
      }
    }
  },
  "nbformat": 4,
  "nbformat_minor": 1
}