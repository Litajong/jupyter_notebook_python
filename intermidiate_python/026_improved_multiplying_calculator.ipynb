{
  "cells": [
    {
      "metadata": {
        "trusted": true
      },
      "cell_type": "code",
      "source": "# Program: Improved Multiplying Calculator Function\n# putting together conditionals, input casting and math\n# - update the multiply() function to multiply or divide\n#   - single parameter is operator with arguments of * or / operator\n#   - default operator is \"*\" (multiply)\n#   - return the result of multiplication or division\n#   - if operator other than \"*\" or \"/\" then return \"Invalid Operator\"\n# [ ] create improved multiply() function and test with /, no argument, and an invalid operator ($)\n\ndef multiply():\n    num_1 = input(\"Enter first number: \")\n    operator = input(\"Enter * or / : \")\n    num_2 = input(\"Enter second number: \")\n    \n    if num_1.isalpha() or num_2.isalpha() or (operator != \"*\" and operator != \"/\"):\n        if num_1.isalpha() or num_2.isalpha():\n            print(\"num_1 and num_2 must be digit\")\n        if operator != \"*\" and operator != \"/\":\n            print(\"operator must be only '*' or '/'\")\n        \n    elif operator == \"*\":\n        Answer1 = int(num_1) * int(num_2)\n        print(num_1, \"*\", num_2, \"=\", Answer1)\n        \n    elif operator == \"/\":\n        Answer2 = int(num_1) / int(num_2)\n        print(num_1, \"*\", num_2, \"/\", Answer2)\n\nmultiply()",
      "execution_count": 36,
      "outputs": [
        {
          "output_type": "stream",
          "name": "stdout",
          "text": "Enter first number: 90\nEnter * or / : $\nEnter second number: 9\noperator must be only '*' or '/'\n"
        }
      ]
    },
    {
      "metadata": {
        "trusted": true
      },
      "cell_type": "code",
      "source": "# Fix the Errors\n# Review, run, fix \n\nstudent_name = input(\"enter name: \").capitalize()\nif student_name.startswith(\"F\"):\n    print(student_name,\"Congratulations, names starting with 'F' get to go first today!\")\nelif student_name.startswith(\"G\")\n    print(student_name,\"Congratulations, names starting with 'G' get to go second today!\")\nelse:\n    print(student_name, \"please wait for students with names staring with 'F' and 'G' to go first today.\")",
      "execution_count": 37,
      "outputs": [
        {
          "output_type": "error",
          "ename": "SyntaxError",
          "evalue": "invalid syntax (<ipython-input-37-5a79e8d31243>, line 7)",
          "traceback": [
            "\u001b[0;36m  File \u001b[0;32m\"<ipython-input-37-5a79e8d31243>\"\u001b[0;36m, line \u001b[0;32m7\u001b[0m\n\u001b[0;31m    elif student_name.startswith(\"G\")\u001b[0m\n\u001b[0m                                     ^\u001b[0m\n\u001b[0;31mSyntaxError\u001b[0m\u001b[0;31m:\u001b[0m invalid syntax\n"
          ]
        }
      ]
    },
    {
      "metadata": {
        "trusted": true
      },
      "cell_type": "code",
      "source": "# Fix to\n\nstudent_name = input(\"enter name: \").capitalize()\nif student_name.startswith(\"F\"):\n    print(student_name,\"Congratulations, names starting with 'F' get to go first today!\")\nelif student_name.startswith(\"G\"):\n    print(student_name,\"Congratulations, names starting with 'G' get to go second today!\")\nelse:\n    print(student_name, \"please wait for students with names staring with 'F' and 'G' to go first today.\")",
      "execution_count": 39,
      "outputs": [
        {
          "output_type": "stream",
          "name": "stdout",
          "text": "enter name: George\nGeorge Congratulations, names starting with 'G' get to go second today!\n"
        }
      ]
    },
    {
      "metadata": {
        "trusted": true
      },
      "cell_type": "code",
      "source": "",
      "execution_count": null,
      "outputs": []
    }
  ],
  "metadata": {
    "kernelspec": {
      "name": "python3",
      "display_name": "Python 3",
      "language": "python"
    },
    "language_info": {
      "mimetype": "text/x-python",
      "nbconvert_exporter": "python",
      "name": "python",
      "pygments_lexer": "ipython3",
      "version": "3.5.4",
      "file_extension": ".py",
      "codemirror_mode": {
        "version": 3,
        "name": "ipython"
      }
    }
  },
  "nbformat": 4,
  "nbformat_minor": 1
}