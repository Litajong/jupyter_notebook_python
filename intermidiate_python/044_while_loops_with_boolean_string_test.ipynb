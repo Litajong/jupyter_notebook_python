{
  "cells": [
    {
      "metadata": {
        "trusted": true
      },
      "cell_type": "code",
      "source": "# while loops with Boolean string tests\n# A while loop can be controlled by Boolean strings such as while name.isalpha() == False:\n\nstudent_fname = \"\"\n\nwhile student_fname.isalpha() == False:\n    student_fname = input(\"enter first name (letters, no spaces): \")\n    \nprint(\"\\n\" + student_fname.title(), \"has been entered as first name\")    ",
      "execution_count": 3,
      "outputs": [
        {
          "output_type": "stream",
          "name": "stdout",
          "text": "enter first name (letters, no spaces): Lali ta\nenter first name (letters, no spaces): La lit\nenter first name (letters, no spaces): Lalita\n\nLalita has been entered as first name\n"
        }
      ]
    },
    {
      "metadata": {
        "trusted": true
      },
      "cell_type": "code",
      "source": "message = \"hi\"\n\nwhile message.isupper() != True:\n    message = input(\"Sorry, can\\'t hear, please yell message: \")\n\nprint('message: \"' + message + '\" recieved')    ",
      "execution_count": 4,
      "outputs": [
        {
          "output_type": "stream",
          "name": "stdout",
          "text": "Sorry, can't hear, please yell message: hello\nSorry, can't hear, please yell message: hi\nSorry, can't hear, please yell message: Hello\nSorry, can't hear, please yell message: HI\nmessage: \"HI\"recieved\n"
        }
      ]
    },
    {
      "metadata": {
        "trusted": true
      },
      "cell_type": "code",
      "source": "number = \"\"\n\nwhile number.isdigit() != True:\n    number = input(\"enter a positive integer: \")\n\n    print(number, \"is an integer\")\n    ",
      "execution_count": 5,
      "outputs": [
        {
          "output_type": "stream",
          "name": "stdout",
          "text": "enter a positive integer: 9.8\n9.8 is an integer\nenter a positive integer: 7\n7 is an integer\n"
        }
      ]
    },
    {
      "metadata": {
        "trusted": true
      },
      "cell_type": "code",
      "source": "",
      "execution_count": null,
      "outputs": []
    }
  ],
  "metadata": {
    "kernelspec": {
      "name": "python3",
      "display_name": "Python 3",
      "language": "python"
    },
    "language_info": {
      "mimetype": "text/x-python",
      "nbconvert_exporter": "python",
      "name": "python",
      "file_extension": ".py",
      "version": "3.5.4",
      "pygments_lexer": "ipython3",
      "codemirror_mode": {
        "version": 3,
        "name": "ipython"
      }
    }
  },
  "nbformat": 4,
  "nbformat_minor": 1
}