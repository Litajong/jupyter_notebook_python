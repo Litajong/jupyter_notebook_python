{
  "cells": [
    {
      "metadata": {
        "trusted": true
      },
      "cell_type": "code",
      "source": "# Program: Say \"Hello\"\n# [ ] Say \"Hello\" with nested if\n# [ ] Challenge: handle input other than y/n\n\nsay_hello = input(\"Say hello or not? enter Y/N: \").lower()\n\nif say_hello == \"y\":\n    full_hello = input(\"Full hello or not? enter Y/N: \").lower()\n    if full_hello == \"y\":\n        print(\"Hello\")\n    elif full_hello == \"n\":\n        print(\"Hi\")\nelse:\n    print(\"Friendly nod\")\n            ",
      "execution_count": 6,
      "outputs": [
        {
          "output_type": "stream",
          "name": "stdout",
          "text": "Say hello or not? enter Y/N: y\nFull hello or not? enter Y/N: y\nHello\n"
        }
      ]
    },
    {
      "metadata": {
        "trusted": true
      },
      "cell_type": "code",
      "source": "# Program: 3 Guesses\n# use nested if statements complete the flowchart code\n# create a bird_names string variable with the names of 1, 2, 3 or more birds to make it easier\n# get bird_guess input and use bird_guess in bird_names to generate Boolean True/False\n# if the the guess is wrong (False) create a sub test until the user has had 3 guesses\n\nbird_name = [\"robin\", \"parrot\", \"owl\", \"sparrow\", \"chicken\", \"duck\"]\nbird_guess = input(\"Guess a bird name: \")\n\nif bird_guess.lower() in bird_name:\n    print(\"Yes, 1st try!\")\nelse:\n    bird_guess = input(\"Guess a bird name: \")\n    if bird_guess.lower() in bird_name:\n        print(\"Yes, 2nd try!\")\n    else:\n        bird_guess = input(\"Guess a bird name: \")\n        if bird_guess.lower() in bird_name:\n            print(\"Yes, 3rd try!\")\n        else:\n            print(\"Sorry, out of tries\")",
      "execution_count": 7,
      "outputs": [
        {
          "output_type": "stream",
          "name": "stdout",
          "text": "Guess a bird name: pig\nGuess a bird name: parrot\nYes, 2nd try!\n"
        }
      ]
    },
    {
      "metadata": {
        "trusted": true
      },
      "cell_type": "code",
      "source": "",
      "execution_count": null,
      "outputs": []
    }
  ],
  "metadata": {
    "kernelspec": {
      "name": "python3",
      "display_name": "Python 3",
      "language": "python"
    },
    "language_info": {
      "mimetype": "text/x-python",
      "nbconvert_exporter": "python",
      "name": "python",
      "pygments_lexer": "ipython3",
      "version": "3.5.4",
      "file_extension": ".py",
      "codemirror_mode": {
        "version": 3,
        "name": "ipython"
      }
    }
  },
  "nbformat": 4,
  "nbformat_minor": 1
}