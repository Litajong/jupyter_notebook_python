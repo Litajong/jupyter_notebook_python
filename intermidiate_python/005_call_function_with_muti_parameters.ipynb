{
 "cells": [
  {
   "cell_type": "code",
   "execution_count": 2,
   "metadata": {},
   "outputs": [
    {
     "name": "stdout",
     "output_type": "stream",
     "text": [
      "SCHEDULE:  [1st] Mathematics, [2nd] History\n"
     ]
    }
   ],
   "source": [
    "# call function with multi-parameters\n",
    "\n",
    "def make_schedule(period1, period2):\n",
    "    schedule = (\"[1st] \" + period1.title() + \", [2nd] \" + period2.title())\n",
    "    return schedule\n",
    "\n",
    "student_schedule = make_schedule(\"mathematics\", \"history\")\n",
    "print(\"SCHEDULE: \", student_schedule)"
   ]
  },
  {
   "cell_type": "code",
   "execution_count": 2,
   "metadata": {},
   "outputs": [
    {
     "name": "stdout",
     "output_type": "stream",
     "text": [
      "SCHEDULE:  [1st] Mathematics, [2nd] History, [3rd] Science\n"
     ]
    }
   ],
   "source": [
    "# Task: Define make_schedule() adding a 3rd period to\n",
    "# Start with the above example code\n",
    "# add a parameter period_3\n",
    "# update function code to add period_3 to the schedule\n",
    "# call student_schedule() with an additional argument such as 'science'\n",
    "# print the schedule\n",
    "\n",
    "# add a 3rd period parameter to make_schedule\n",
    "\n",
    "def make_schedule(period1, period2, period3):\n",
    "    schedule = (\"[1st] \" + period1.title() + \", [2nd] \" + period2.title() + \", [3rd] \" + period3.title())\n",
    "    return schedule\n",
    "\n",
    "student_schedule = make_schedule(\"mathematics\", \"history\", \"science\")\n",
    "print(\"SCHEDULE: \", student_schedule)\n",
    "\n"
   ]
  },
  {
   "cell_type": "code",
   "execution_count": 5,
   "metadata": {},
   "outputs": [
    {
     "name": "stdout",
     "output_type": "stream",
     "text": [
      "Student: Tobies Ledford\n",
      "Age: 15\n",
      "School: Oak\n"
     ]
    }
   ],
   "source": [
    "def format_info (name, age, school):\n",
    "    return \"Student: \"+ name + \"\\nAge: \" + str(age)+ \"\\nSchool: \"+ school\n",
    "print(format_info(\"Tobies Ledford\", 15, \"Oak\"))\n"
   ]
  },
  {
   "cell_type": "code",
   "execution_count": null,
   "metadata": {},
   "outputs": [],
   "source": []
  }
 ],
 "metadata": {
  "kernelspec": {
   "display_name": "Python 3",
   "language": "python",
   "name": "python3"
  },
  "language_info": {
   "codemirror_mode": {
    "name": "ipython",
    "version": 3
   },
   "file_extension": ".py",
   "mimetype": "text/x-python",
   "name": "python",
   "nbconvert_exporter": "python",
   "pygments_lexer": "ipython3",
   "version": "3.5.4"
  }
 },
 "nbformat": 4,
 "nbformat_minor": 1
}
