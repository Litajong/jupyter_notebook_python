{
  "cells": [
    {
      "metadata": {
        "trusted": true
      },
      "cell_type": "code",
      "source": "# TasK: use math operators to solve the set of tasks below\n\n# [ ] print the result of subtracting 15 from 43\nprint(\"43 - 15 = \",43 - 15)\n\n# [ ] print the result of multiplying 15 and 43\nprint(\"15 * 43 = \",15 * 43)\n\n# [ ] print the result of dividing 156 by 12\nprint(\"156 / 12 = \", 156 / 12)\n\n# [ ] print the result of dividing 21 by 0.5\nprint(\"21 / 0.5 = \", 21 / 0.5)\n\n# [ ] print the result of adding 111 plus 84 and then subtracting 45\nprint(\"(111 + 84) - 45 = \", (111 + 84) - 45)\n\n# [ ] print the result of adding 21 and 4 and then multiplying that sum by 4\nprint(\"(21 + 4) * 4 = \", (21 + 4) * 4)",
      "execution_count": 19,
      "outputs": [
        {
          "output_type": "stream",
          "text": "43 - 15 =  28\n15 * 43 =  645\n156 / 12 =  13.0\n21 / 0.5 =  42.0\n(111 + 84) - 45 =  150\n(21 + 4) * 4 =  100\n",
          "name": "stdout"
        }
      ]
    },
    {
      "metadata": {
        "trusted": true
      },
      "cell_type": "code",
      "source": "# Program: Multiplying Calculator Function\n# define function multiply(), and within the function:\n# - gets user input() of 2 strings made of whole numbers\n# - cast the input to int()\n# - multiply the integers and return the equation with result as a str()\n#   - return example 9 * 13 = 117",
      "execution_count": 20,
      "outputs": []
    },
    {
      "metadata": {
        "trusted": true
      },
      "cell_type": "code",
      "source": "def multiply(num_1, num_2):\n    print(num_1, \"*\", num_2, \"=\", int(num_1) * int(num_2))\n    \nnum_1 = input(\"enter number\")\nnum_2 = input(\"enter number\")\n\nprint(multiply(num_1, num_2))",
      "execution_count": 26,
      "outputs": [
        {
          "output_type": "stream",
          "name": "stdout",
          "text": "enter number8\nenter number5\n8 * 5 = 40\nNone\n"
        }
      ]
    },
    {
      "metadata": {
        "trusted": true
      },
      "cell_type": "code",
      "source": "# other solution\n\ndef multiply():\n    first_number = input(\"Enter first whole number: \")\n    second_number = input(\"Enter second whole number: \")\n    \n    if first_number.isalpha() or second_number.isalpha() == True:\n        print(\"Only numeric values are accepted\")\n    else:\n        Answer = int(first_number) * int(second_number)\n        print(first_number, \"*\", second_number, \"=\", Answer)\nmultiply()",
      "execution_count": 2,
      "outputs": [
        {
          "output_type": "stream",
          "name": "stdout",
          "text": "Enter first whole number: 8\nEnter second whole number: 5\n8 * 5 = 40\n"
        }
      ]
    },
    {
      "metadata": {
        "trusted": true
      },
      "cell_type": "code",
      "source": "",
      "execution_count": null,
      "outputs": []
    }
  ],
  "metadata": {
    "kernelspec": {
      "name": "python3",
      "display_name": "Python 3",
      "language": "python"
    },
    "language_info": {
      "mimetype": "text/x-python",
      "nbconvert_exporter": "python",
      "name": "python",
      "file_extension": ".py",
      "version": "3.5.4",
      "pygments_lexer": "ipython3",
      "codemirror_mode": {
        "version": 3,
        "name": "ipython"
      }
    }
  },
  "nbformat": 4,
  "nbformat_minor": 1
}