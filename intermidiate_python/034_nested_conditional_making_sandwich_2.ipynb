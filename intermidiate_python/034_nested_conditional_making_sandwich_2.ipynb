{
  "cells": [
    {
      "metadata": {
        "trusted": true
      },
      "cell_type": "code",
      "source": "# Making a sandwich 2\n\nprint(\"Hi, welcome to the sandwich shop.  Please select a sandwich.\")\nsandwich_type = input('\"c\" for Cheese or \"v\" for Veggie Special: ')\nprint()\n    \nif sandwich_type.lower() == \"c\":\n    # select cheese type\n    print(\"Please select a cheese.\")\n    cheese_type = input('\"c\" for Cheddar or \"m\" for Manchego: ')\n    print()\n    \n    if cheese_type.lower() == \"c\":\n        print(\"Here is your Cheddar Cheese sandwich.  Thank you.\")\n    elif cheese_type.lower() == \"m\":\n        print(\"Here is your Manchego Cheese sandwich.  Thank you.\") \n    else:\n        print(\"Sorry, we don't have\", cheese_type, \"choice today.\")\n\nelif sandwich_type.lower() == \"v\":\n    print(\"Here is your Veggie Special. Thank you.\")\n        \nelse:\n    print(\"Sorry, we don't have\", sandwich_type, \"choice today.\")\nprint()\nprint(\"Goodbye!\")",
      "execution_count": 5,
      "outputs": [
        {
          "output_type": "stream",
          "text": "Hi, welcome to the sandwich shop.  Please select a sandwich.\n\"c\" for Cheese or \"v\" for Veggie Special: c\n\nPlease select a cheese.\n\"c\" for Cheddar or \"m\" for Manchego: m\n\nHere is your Manchego Cheese sandwich.  Thank you.\n\nGoodbye!\n",
          "name": "stdout"
        }
      ]
    },
    {
      "metadata": {
        "trusted": true
      },
      "cell_type": "code",
      "source": "",
      "execution_count": null,
      "outputs": []
    }
  ],
  "metadata": {
    "kernelspec": {
      "name": "python3",
      "display_name": "Python 3",
      "language": "python"
    },
    "language_info": {
      "mimetype": "text/x-python",
      "nbconvert_exporter": "python",
      "name": "python",
      "pygments_lexer": "ipython3",
      "version": "3.5.4",
      "file_extension": ".py",
      "codemirror_mode": {
        "version": 3,
        "name": "ipython"
      }
    }
  },
  "nbformat": 4,
  "nbformat_minor": 1
}