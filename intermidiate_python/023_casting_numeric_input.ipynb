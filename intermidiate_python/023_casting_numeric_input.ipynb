{
  "cells": [
    {
      "metadata": {
        "trusted": true
      },
      "cell_type": "code",
      "source": "# Casting Numeric Input\n\nstudent_age = input('enter student age (integer): ')\nage_next_year = int(student_age) + 1\nprint('Next year student will be ' , age_next_year)",
      "execution_count": 1,
      "outputs": [
        {
          "output_type": "stream",
          "name": "stdout",
          "text": "enter student age (integer): 19\nNext year student will be  20\n"
        }
      ]
    },
    {
      "metadata": {
        "trusted": true
      },
      "cell_type": "code",
      "source": "# cast to int at input\n\nstudent_age = int(input('enter student age (integer): '))\nage_in_decade = student_age + 10\nprint('In a decade the student will be' , age_in_decade)",
      "execution_count": 2,
      "outputs": [
        {
          "output_type": "stream",
          "name": "stdout",
          "text": "enter student age (integer): 19\nIn a decade the student will be 29\n"
        }
      ]
    },
    {
      "metadata": {
        "trusted": true
      },
      "cell_type": "code",
      "source": "# Task: Program: adding calculator\n# get input of 2 integer numbers\n# cast the input and print the input followed by the result\n# - Output Example: 9 + 13 = 22\n\n# [ ] code and test the adding calculator\n\n\nnum_1 = input('enter integer: ')\nnum_2 = input('enter integer: ')\n\noutput = print(\"Output:\", num_1, \"+\" , num_2, \"=\" , int(num_1) + int(num_2))",
      "execution_count": 4,
      "outputs": [
        {
          "output_type": "stream",
          "name": "stdout",
          "text": "enter integer: 5\nenter integer: 15\nOutput: 5 + 15 = 20\n"
        }
      ]
    },
    {
      "metadata": {
        "trusted": true
      },
      "cell_type": "code",
      "source": "# - Optional: check if input .isdigit() before trying integer addition to avoid errors in casting invalid inputs\ncheck = True\n\nwhile check:\n    num_1 = input('enter integer 1: ')\n    if num_1.isdigit():\n        check = False\n    else:\n        print(\"invalid inputs. Please enter digit\")\n\ncheck = True\nwhile check:\n    num_2 = input('enter integer 2: ')\n    if num_2.isdigit():\n        check = False\n    else:\n        print(\"invalid inputs. Please enter digit\")\n        \noutput = print(\"Output:\", num_1, \"+\" , num_2, \"=\" , int(num_1) + int(num_2))",
      "execution_count": 15,
      "outputs": [
        {
          "output_type": "stream",
          "name": "stdout",
          "text": "enter integer 1: d\ninvalid inputs. Please enter digit\nenter integer 1: 55\nenter integer 2: 60\nOutput: 55 + 60 = 115\n"
        }
      ]
    }
  ],
  "metadata": {
    "kernelspec": {
      "name": "python3",
      "display_name": "Python 3",
      "language": "python"
    },
    "language_info": {
      "mimetype": "text/x-python",
      "nbconvert_exporter": "python",
      "name": "python",
      "pygments_lexer": "ipython3",
      "version": "3.5.4",
      "file_extension": ".py",
      "codemirror_mode": {
        "version": 3,
        "name": "ipython"
      }
    }
  },
  "nbformat": 4,
  "nbformat_minor": 1
}