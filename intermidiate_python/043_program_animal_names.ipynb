{
  "cells": [
    {
      "metadata": {
        "trusted": true
      },
      "cell_type": "code",
      "source": "# Program: Animal Names\n# Use while to get the user input, animal_name, of 4 animals\n# - use a counter, num_animals, in the while loop condition\n# - append the names to a string variable, all_animals\n# - User can exit early by typing \"exit\" (check if animal_name is \"exit\" and break)\n# when the loop finishes, print the names of all_animals\n# - bonus: print \"no animals\" if animal_name is empty after exiting the loop\n\n# Tip: Think about Sequence and variables that need to be initialized before the while loop",
      "execution_count": null,
      "outputs": []
    },
    {
      "metadata": {
        "trusted": true
      },
      "cell_type": "code",
      "source": "num_animals = 4\nall_name = []\n\nwhile num_animals > 0:\n    animal_name = input('enter animal name or \"exit\" to finish: ')\n    num_animals -= 1\n\n    if animal_name.lower() == \"exit\":\n        break\n    else:\n        all_name.append(animal_name)\n    \nprint(\"All animal(s): \",all_name)",
      "execution_count": 4,
      "outputs": [
        {
          "output_type": "stream",
          "name": "stdout",
          "text": "enter animal name or \"exit\" to finish: cat\nenter animal name or \"exit\" to finish: rat\nenter animal name or \"exit\" to finish: bat\nenter animal name or \"exit\" to finish: bee\nAll animal(s):  ['cat', 'rat', 'bat', 'bee']\n"
        }
      ]
    },
    {
      "metadata": {
        "trusted": true
      },
      "cell_type": "code",
      "source": "",
      "execution_count": null,
      "outputs": []
    }
  ],
  "metadata": {
    "kernelspec": {
      "name": "python3",
      "display_name": "Python 3",
      "language": "python"
    },
    "language_info": {
      "mimetype": "text/x-python",
      "nbconvert_exporter": "python",
      "name": "python",
      "file_extension": ".py",
      "version": "3.5.4",
      "pygments_lexer": "ipython3",
      "codemirror_mode": {
        "version": 3,
        "name": "ipython"
      }
    }
  },
  "nbformat": 4,
  "nbformat_minor": 1
}