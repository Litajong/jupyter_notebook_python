{
  "cells": [
    {
      "metadata": {
        "trusted": true
      },
      "cell_type": "code",
      "source": "# String compare with \"if\"\n\nmsg = \"Save the notebook\"\n\nif msg == \"save the notebook\":\n    print(\"messgae as expected\")\nelse:\n    print(\"message not as expecred\")\n\n",
      "execution_count": 2,
      "outputs": [
        {
          "output_type": "stream",
          "text": "message not as expecred\n",
          "name": "stdout"
        }
      ]
    },
    {
      "metadata": {
        "trusted": true
      },
      "cell_type": "code",
      "source": "# to test the massage against a prediction \nmsg = \"Save the notebook\"\nprediction = \"save the notebook\"\n\nif msg.lower() == prediction.lower():\n    print(\"messgae as expected\")\nelse:\n    print(\"message not as expecred\")",
      "execution_count": 3,
      "outputs": [
        {
          "output_type": "stream",
          "text": "messgae as expected\n",
          "name": "stdout"
        }
      ]
    },
    {
      "metadata": {
        "trusted": true
      },
      "cell_type": "code",
      "source": "l_name = input(\"enter last name: \")\n\nif l_name.lower() <= \"c\":\n    print(\"Welcome to the a, b, c line\")\nelse:\n    print(\"Sorry, this is the a, b, c line\")",
      "execution_count": 4,
      "outputs": [
        {
          "output_type": "stream",
          "name": "stdout",
          "text": "enter last name: Dorothy\nSorry, this is the a, b, c line\n"
        }
      ]
    },
    {
      "metadata": {
        "trusted": true
      },
      "cell_type": "code",
      "source": "",
      "execution_count": null,
      "outputs": []
    }
  ],
  "metadata": {
    "kernelspec": {
      "name": "python3",
      "display_name": "Python 3",
      "language": "python"
    },
    "language_info": {
      "mimetype": "text/x-python",
      "nbconvert_exporter": "python",
      "name": "python",
      "file_extension": ".py",
      "version": "3.5.4",
      "pygments_lexer": "ipython3",
      "codemirror_mode": {
        "version": 3,
        "name": "ipython"
      }
    }
  },
  "nbformat": 4,
  "nbformat_minor": 1
}