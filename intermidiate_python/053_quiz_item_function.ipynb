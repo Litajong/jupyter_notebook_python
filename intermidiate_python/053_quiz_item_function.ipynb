{
 "cells": [
  {
   "cell_type": "code",
   "execution_count": null,
   "metadata": {},
   "outputs": [],
   "source": [
    "# create a function: quiz_item() that asks a question and tests if input is correct\n",
    "# quiz_item()has 2 parameter strings: question and solution\n",
    "# shows question, gets answer input\n",
    "# returns True if answer == solution or continues to ask question until correct answer is provided\n",
    "# use a while loop\n"
   ]
  },
  {
   "cell_type": "code",
   "execution_count": 4,
   "metadata": {
    "scrolled": true
   },
   "outputs": [
    {
     "name": "stdout",
     "output_type": "stream",
     "text": [
      "who is the first president of the united states?\n",
      "a.George Washington b.Donald Trump c.Barack Obama\n",
      "Answer: b\n",
      "Your answer is not correct. Please try again.\n",
      "\n",
      "who is the first president of the united states?\n",
      "a.George Washington b.Donald Trump c.Barack Obama\n",
      "Answer: c\n",
      "Your answer is not correct. Please try again.\n",
      "\n",
      "who is the first president of the united states?\n",
      "a.George Washington b.Donald Trump c.Barack Obama\n",
      "Answer: a\n"
     ]
    },
    {
     "data": {
      "text/plain": [
       "True"
      ]
     },
     "execution_count": 4,
     "metadata": {},
     "output_type": "execute_result"
    }
   ],
   "source": [
    "answer = \"a\"\n",
    "\n",
    "def quiz_item(question, answer):\n",
    "    question = input(\"who is the first president of the united states?\\na.George Washington b.Donald Trump c.Barack Obama\\nAnswer: \")\n",
    "    while question.isalpha():\n",
    "        if question.lower() == answer:\n",
    "            return True\n",
    "        else:\n",
    "            print(\"Your answer is not correct. Please try again.\\n\")\n",
    "        question = input(\"who is the first president of the united states?\\na.George Washington b.Donald Trump c.Barack Obama\\nAnswer: \")\n",
    "        \n",
    "quiz_item(question,answer)"
   ]
  },
  {
   "cell_type": "code",
   "execution_count": null,
   "metadata": {},
   "outputs": [],
   "source": []
  },
  {
   "cell_type": "code",
   "execution_count": null,
   "metadata": {},
   "outputs": [],
   "source": []
  }
 ],
 "metadata": {
  "kernelspec": {
   "display_name": "Python 3",
   "language": "python",
   "name": "python3"
  },
  "language_info": {
   "codemirror_mode": {
    "name": "ipython",
    "version": 3
   },
   "file_extension": ".py",
   "mimetype": "text/x-python",
   "name": "python",
   "nbconvert_exporter": "python",
   "pygments_lexer": "ipython3",
   "version": "3.5.4"
  }
 },
 "nbformat": 4,
 "nbformat_minor": 1
}
