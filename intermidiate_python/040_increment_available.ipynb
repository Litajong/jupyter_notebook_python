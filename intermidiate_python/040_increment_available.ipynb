{
  "cells": [
    {
      "metadata": {
        "trusted": true
      },
      "cell_type": "code",
      "source": "# increment a variable\n# votes = votes + 1     or   votes += 1\n# Decrementing (negative incrementing)\n# votes = votes - 1     or   votes -= 1",
      "execution_count": 1,
      "outputs": []
    },
    {
      "metadata": {
        "trusted": true
      },
      "cell_type": "code",
      "source": "votes = 3\nprint(votes)",
      "execution_count": 2,
      "outputs": [
        {
          "output_type": "stream",
          "text": "3\n",
          "name": "stdout"
        }
      ]
    },
    {
      "metadata": {
        "trusted": true
      },
      "cell_type": "code",
      "source": "votes = votes + 1\nprint(votes)\n\nvotes += 2\nprint(votes)",
      "execution_count": 3,
      "outputs": [
        {
          "output_type": "stream",
          "text": "4\n6\n",
          "name": "stdout"
        }
      ]
    },
    {
      "metadata": {
        "trusted": true
      },
      "cell_type": "code",
      "source": "# Decrementing\nprint(votes)\n\nvotes -= 1\nprint(votes)",
      "execution_count": 5,
      "outputs": [
        {
          "output_type": "stream",
          "text": "5\n4\n",
          "name": "stdout"
        }
      ]
    },
    {
      "metadata": {
        "trusted": true
      },
      "cell_type": "code",
      "source": "seat_count = 0\n\nwhile True:\n    seat_count = seat_count + 1\n    print(\"seat count: \", seat_count)\n    \n    if seat_count >= 4:\n        print(\"no seats remaining\")\n        break",
      "execution_count": 6,
      "outputs": [
        {
          "output_type": "stream",
          "text": "seat count:  1\nseat count:  2\nseat count:  3\nseat count:  4\nno seats remaining\n",
          "name": "stdout"
        }
      ]
    },
    {
      "metadata": {
        "trusted": true
      },
      "cell_type": "code",
      "source": "seat_count = 4\n\nwhile True:\n    print(\"Remaining seat count: \", seat_count)\n    seat_count = seat_count - 1\n    \n    if seat_count <= 0:\n        print(\"Final remaining seat count: \", seat_count)\n        break",
      "execution_count": 7,
      "outputs": [
        {
          "output_type": "stream",
          "text": "Remaining seat count:  4\nRemaining seat count:  3\nRemaining seat count:  2\nRemaining seat count:  1\nFinal remaining seat count:  0\n",
          "name": "stdout"
        }
      ]
    },
    {
      "metadata": {
        "trusted": true
      },
      "cell_type": "code",
      "source": "# [ ] review the SEAT TYPE COUNT code then run entering: hard, soft, medium and exit\n\n# initialize variables\nseat_count = 0\nsoft_seats = 0\nhard_seats = 0\nnum_seats = 4\n\n# loops tallying seats using soft pads vs hard, until seats full or user \"exits\"\n\nwhile True:\n    seat_type = input('enter seat type of \"hard\", \"soft\" or \"exit\" (to finish): ')\n    \n    if seat_type.lower().startswith(\"e\"):\n        print()\n        break\n    elif seat_type.lower() == \"hard\":\n        hard_seats += 1\n    elif seat_type.lower() == \"soft\":\n        soft_seats += 1\n    else:\n        print(\"invalid entry: counted as hard\")\n        hard_seat += 1\n    seat_count += 1\n    if seat_count >= num_seats:\n        print(\"\\nseats are full\")\n        break\n\nprint(seat_count,\"Seats Total: \",hard_seats,\"hard and\",soft_seats,\"soft\" )        \n    ",
      "execution_count": null,
      "outputs": [
        {
          "output_type": "stream",
          "name": "stdout",
          "text": "enter seat type of \"hard\", \"soft\" or \"exit\" (to finish): hard\n"
        }
      ]
    },
    {
      "metadata": {
        "trusted": true
      },
      "cell_type": "code",
      "source": "",
      "execution_count": null,
      "outputs": []
    }
  ],
  "metadata": {
    "kernelspec": {
      "name": "python3",
      "display_name": "Python 3",
      "language": "python"
    },
    "language_info": {
      "mimetype": "text/x-python",
      "nbconvert_exporter": "python",
      "name": "python",
      "file_extension": ".py",
      "version": "3.5.4",
      "pygments_lexer": "ipython3",
      "codemirror_mode": {
        "version": 3,
        "name": "ipython"
      }
    }
  },
  "nbformat": 4,
  "nbformat_minor": 1
}