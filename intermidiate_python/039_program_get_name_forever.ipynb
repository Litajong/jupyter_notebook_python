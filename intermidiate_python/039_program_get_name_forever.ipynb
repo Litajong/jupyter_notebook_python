{
  "cells": [
    {
      "metadata": {
        "trusted": true
      },
      "cell_type": "code",
      "source": "# Program: Get a name forever ...or until done\n# create variable, familar_name, and assign it an empty string (\"\")\n# use while True:\n# ask for user input for familar_name (common name friends/family use)\n# keep asking until given a non-blank/non-space alphabetical name is received (Hint: Boolean string test)\n# break loop and print a greeting using familar_name",
      "execution_count": null,
      "outputs": []
    },
    {
      "metadata": {
        "trusted": true
      },
      "cell_type": "code",
      "source": "familar_name = \"\"\n\nwhile True:\n    familar_name = input(\"Enter a name: \")\n    \n    if familar_name.isalpha():\n        print(\"Hello\", familar_name + \"!\\n\")\n        break ",
      "execution_count": 1,
      "outputs": [
        {
          "output_type": "stream",
          "name": "stdout",
          "text": "Enter a name: Ka ka\nEnter a name: patrik\nHello patrik!\n\n"
        }
      ]
    },
    {
      "metadata": {
        "trusted": true
      },
      "cell_type": "code",
      "source": "",
      "execution_count": null,
      "outputs": []
    }
  ],
  "metadata": {
    "kernelspec": {
      "name": "python3",
      "display_name": "Python 3",
      "language": "python"
    },
    "language_info": {
      "mimetype": "text/x-python",
      "nbconvert_exporter": "python",
      "name": "python",
      "file_extension": ".py",
      "version": "3.5.4",
      "pygments_lexer": "ipython3",
      "codemirror_mode": {
        "version": 3,
        "name": "ipython"
      }
    }
  },
  "nbformat": 4,
  "nbformat_minor": 1
}