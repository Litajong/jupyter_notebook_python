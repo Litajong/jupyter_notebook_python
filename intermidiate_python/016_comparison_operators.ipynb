{
  "cells": [
    {
      "metadata": {
        "trusted": true
      },
      "cell_type": "code",
      "source": "# Comparison Operators (>, <, >=, <=, ==, Assign = vs compare ==, !=)\n# comparison operatiors are boolean and return True or False\n\n3 > 5\n",
      "execution_count": 2,
      "outputs": [
        {
          "output_type": "execute_result",
          "execution_count": 2,
          "data": {
            "text/plain": "False"
          },
          "metadata": {}
        }
      ]
    },
    {
      "metadata": {
        "trusted": true
      },
      "cell_type": "code",
      "source": "3 >= 3   ",
      "execution_count": 3,
      "outputs": [
        {
          "output_type": "execute_result",
          "execution_count": 3,
          "data": {
            "text/plain": "True"
          },
          "metadata": {}
        }
      ]
    },
    {
      "metadata": {
        "trusted": true
      },
      "cell_type": "code",
      "source": "# Assign vs Compare\n# assign points equal to 3\npoint = 0\n\n# test if points is equal to\npoint == 9",
      "execution_count": 4,
      "outputs": [
        {
          "output_type": "execute_result",
          "execution_count": 4,
          "data": {
            "text/plain": "False"
          },
          "metadata": {}
        }
      ]
    },
    {
      "metadata": {
        "trusted": true
      },
      "cell_type": "code",
      "source": "point < 9",
      "execution_count": 5,
      "outputs": [
        {
          "output_type": "execute_result",
          "execution_count": 5,
          "data": {
            "text/plain": "True"
          },
          "metadata": {}
        }
      ]
    },
    {
      "metadata": {
        "trusted": true
      },
      "cell_type": "code",
      "source": "# Not equal !=\nx = 3\nprint(\"x not equal 9 is\", x != 9)\nprint(\"x equal 3 is\", x == 3)\n",
      "execution_count": 7,
      "outputs": [
        {
          "output_type": "stream",
          "text": "x not equal 9 is True\nx equal 3 is True\n",
          "name": "stdout"
        }
      ]
    },
    {
      "metadata": {
        "trusted": true
      },
      "cell_type": "code",
      "source": "# Task: comparison operators\n\nx = 9 + 4\n\n# [ ] create a test to print() True or False for x is equal to 13\nprint(\"x is equal to 13 is\", x == 13)",
      "execution_count": 8,
      "outputs": [
        {
          "output_type": "stream",
          "text": "x is equal to 13 is True\n",
          "name": "stdout"
        }
      ]
    },
    {
      "metadata": {
        "trusted": true
      },
      "cell_type": "code",
      "source": "# [ ] create a test to print True or False for 3 + 3 is greater than 2 + 4\nprint(\"3 + 3 is greater than 2 + 4 is\", 3 + 3 == 2 + 4)",
      "execution_count": 9,
      "outputs": [
        {
          "output_type": "stream",
          "text": "3 + 3 is greater than 2 + 4 is True\n",
          "name": "stdout"
        }
      ]
    },
    {
      "metadata": {
        "trusted": true
      },
      "cell_type": "code",
      "source": "",
      "execution_count": null,
      "outputs": []
    }
  ],
  "metadata": {
    "kernelspec": {
      "name": "python3",
      "display_name": "Python 3",
      "language": "python"
    },
    "language_info": {
      "mimetype": "text/x-python",
      "nbconvert_exporter": "python",
      "name": "python",
      "file_extension": ".py",
      "version": "3.5.4",
      "pygments_lexer": "ipython3",
      "codemirror_mode": {
        "version": 3,
        "name": "ipython"
      }
    }
  },
  "nbformat": 4,
  "nbformat_minor": 1
}