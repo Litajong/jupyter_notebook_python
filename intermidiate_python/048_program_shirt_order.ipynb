{
  "cells": [
    {
      "metadata": {
        "trusted": true
      },
      "cell_type": "code",
      "source": "# Program: shirt order\n# First get input for color and size\n\n# - White has sizes L, M\n# - Blue has sizes M, S\n# print avaiable or unavailable, then\n# print the order confirmation of color and size\n\n# hint: set a variable \"available = False\" before nested if statements and\n# change to True if color and size are avaiable",
      "execution_count": 1,
      "outputs": []
    },
    {
      "metadata": {
        "trusted": true
      },
      "cell_type": "code",
      "source": "shirt_color = input(\"Enter you shirt color (White or Blue): \")\nshirt_size = input(\"Enter you shirt size (S, M, L): \")\navailable = False\n\nif (shirt_color.lower() == \"white\"):\n    if (shirt_size.lower() == \"l\" or shirt_size.lower() == \"m\"):\n        available = True\n    elif (shirt_size.lower() == \"s\"):\n        available = False\n    else:\n        print(\"You select wrong size\")\nelif (shirt_color.lower() == \"blue\"):\n    if (shirt_size.lower() == \"m\" or shirt_size.lower() == \"s\"):\n        available = True\n    elif (shirt_size.lower() == \"l\"):\n        available = False\n    else:\n        print(\"invalid size\")\nelse:\n    print(\"invalid color\")\n\n    \nif (available):\n    print(\"Your order is available\")\n    print(\"Your order is \" + shirt_color + \" shirt, \" + shirt_size.upper() + \" size\")\nelse:\n    print(\"Your order is unavailable\")\n        \n\n",
      "execution_count": 26,
      "outputs": [
        {
          "output_type": "stream",
          "name": "stdout",
          "text": "Enter you shirt color (White or Blue): blue\nEnter you shirt size (S, M, L): s\nYour order is available\nYour order is blue shirt, S size\n"
        }
      ]
    },
    {
      "metadata": {
        "trusted": true
      },
      "cell_type": "code",
      "source": "",
      "execution_count": null,
      "outputs": []
    }
  ],
  "metadata": {
    "kernelspec": {
      "name": "python3",
      "display_name": "Python 3",
      "language": "python"
    },
    "language_info": {
      "mimetype": "text/x-python",
      "nbconvert_exporter": "python",
      "name": "python",
      "file_extension": ".py",
      "version": "3.5.4",
      "pygments_lexer": "ipython3",
      "codemirror_mode": {
        "version": 3,
        "name": "ipython"
      }
    }
  },
  "nbformat": 4,
  "nbformat_minor": 1
}