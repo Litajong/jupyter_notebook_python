{
  "cells": [
    {
      "metadata": {
        "trusted": true
      },
      "cell_type": "code",
      "source": "def math_quiz(question, answer):\n    guess = 5\n    while guess > 0:\n        user_answer = input(question)\n        if int(user_answer) == answer:\n            return \"You win!\"\n        else:\n            guess -= 1\n    return \"Try again tomorrow!\"\n\nquestion = \"The answer of ((500/5)*10)/100 = \"\nanswer = 10\n\nprint(math_quiz(question, answer))",
      "execution_count": 3,
      "outputs": [
        {
          "output_type": "stream",
          "name": "stdout",
          "text": "The answer of ((500/5)*10)/100 = 9\nThe answer of ((500/5)*10)/100 = 8\nThe answer of ((500/5)*10)/100 = 7\nThe answer of ((500/5)*10)/100 = 6\nThe answer of ((500/5)*10)/100 = 5\nTry again tomorrow!\n"
        }
      ]
    },
    {
      "metadata": {
        "trusted": true
      },
      "cell_type": "code",
      "source": "def math_quiz(question, answer):\n    guess = 5\n    while guess > 0:\n        user_answer = input(question)\n        if int(user_answer) == answer:\n            print(\"You win!\")\n            break\n        else:\n            guess -= 1\n            if guess == 0:\n                print(\"Try again tomorrow!\")\n\nquestion = \"The answer of ((500/5)*10)/100 = \"\nanswer = 10\n\nmath_quiz(question, answer)",
      "execution_count": 5,
      "outputs": [
        {
          "output_type": "stream",
          "name": "stdout",
          "text": "The answer of ((500/5)*10)/100 = 9\nThe answer of ((500/5)*10)/100 = 8\nThe answer of ((500/5)*10)/100 = 7\nThe answer of ((500/5)*10)/100 = 6\nThe answer of ((500/5)*10)/100 = 5\nTry again tomorrow!\n"
        }
      ]
    },
    {
      "metadata": {
        "trusted": true
      },
      "cell_type": "code",
      "source": "",
      "execution_count": null,
      "outputs": []
    }
  ],
  "metadata": {
    "kernelspec": {
      "name": "python3",
      "display_name": "Python 3",
      "language": "python"
    },
    "language_info": {
      "mimetype": "text/x-python",
      "nbconvert_exporter": "python",
      "name": "python",
      "pygments_lexer": "ipython3",
      "version": "3.5.4",
      "file_extension": ".py",
      "codemirror_mode": {
        "version": 3,
        "name": "ipython"
      }
    }
  },
  "nbformat": 4,
  "nbformat_minor": 1
}