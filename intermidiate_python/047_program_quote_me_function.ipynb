{
  "cells": [
    {
      "metadata": {
        "trusted": true
      },
      "cell_type": "code",
      "source": "# Program: quote_me() Function\n# quote_me takes a string argument and returns a string that will display surrounded with added double quotes if printed\n\n# check if passed string starts with a double quote (\"\\\"\"), then surround string with single quotations\n# - if the passed string starts with single quote, or if doesn't start with a quotation mark, then surround with double quotations\n# - Test the function code passing string input as the argument to quote_me()",
      "execution_count": null,
      "outputs": []
    },
    {
      "metadata": {
        "trusted": true
      },
      "cell_type": "code",
      "source": "quote = input(\"enter a quote: \")\n\ndef quote_me(quote):\n    if quote.startswith('\"'):\n        print(\"'\",quote,\"'\")\n    else:\n        print('\"',quote,'\"')\n    \nquote_me(quote)",
      "execution_count": 3,
      "outputs": [
        {
          "output_type": "stream",
          "name": "stdout",
          "text": "enter a quote: 'save your code'\n\" 'save your code' \"\n"
        }
      ]
    },
    {
      "metadata": {
        "trusted": true
      },
      "cell_type": "code",
      "source": "",
      "execution_count": null,
      "outputs": []
    }
  ],
  "metadata": {
    "kernelspec": {
      "name": "python3",
      "display_name": "Python 3",
      "language": "python"
    },
    "language_info": {
      "mimetype": "text/x-python",
      "nbconvert_exporter": "python",
      "name": "python",
      "file_extension": ".py",
      "version": "3.5.4",
      "pygments_lexer": "ipython3",
      "codemirror_mode": {
        "version": 3,
        "name": "ipython"
      }
    }
  },
  "nbformat": 4,
  "nbformat_minor": 1
}