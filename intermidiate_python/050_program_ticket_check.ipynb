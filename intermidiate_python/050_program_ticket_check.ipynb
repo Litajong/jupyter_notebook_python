{
  "cells": [
    {
      "metadata": {
        "trusted": true
      },
      "cell_type": "code",
      "source": "# Program: ticket_check() - finds out if a seat is avaiable\n# Call ticket_check() function with 2 arguments: section and seats requested and return True or False\n\n# section is a string and expects: general, floor\n# seats is an integer and expects: 1 - 10\n# Check for valid section and seats\n\n# if section is general (or use startswith \"g\")\n# - if seats is 1-10 return True\n# if section is floor (or use starts with \"f\")\n# - if seats is 1-4 return True\n# otherwise return False",
      "execution_count": 1,
      "outputs": []
    },
    {
      "metadata": {
        "trusted": true
      },
      "cell_type": "code",
      "source": "ticket_section = input(\"Enter ticket section (general or floor): \")\nticket_seats = input(\"Enter ticket seat number (1-10):  \")\n\ndef ticket_check(section,seats):\n    if section.lower().startswith(\"g\"):\n        if int(seats) >= 1 and int(seats) <= 10:\n            return True\n    elif section.lower().startswith(\"f\"):\n        if int(seats) >=1 and int(seats) <= 4:\n            return True\n    elif section.lower().startswith(\"g\") or section.lower().startswith(\"f\") == False:\n        print(\"Section is only general or floor\")\n    elif int(seats) < 1 or int(seats) > 10 == False:\n        print(\"Seat number is only 1 - 10\")\n    else:\n        return False\n    \nticket_check(ticket_section , ticket_seats)",
      "execution_count": 6,
      "outputs": [
        {
          "output_type": "stream",
          "name": "stdout",
          "text": "Enter ticket section (general or floor): ge\nEnter ticket seat number (1-10):  -8\n"
        }
      ]
    },
    {
      "metadata": {
        "trusted": true
      },
      "cell_type": "code",
      "source": "",
      "execution_count": null,
      "outputs": []
    }
  ],
  "metadata": {
    "kernelspec": {
      "name": "python3",
      "display_name": "Python 3",
      "language": "python"
    },
    "language_info": {
      "mimetype": "text/x-python",
      "nbconvert_exporter": "python",
      "name": "python",
      "pygments_lexer": "ipython3",
      "version": "3.5.4",
      "file_extension": ".py",
      "codemirror_mode": {
        "version": 3,
        "name": "ipython"
      }
    }
  },
  "nbformat": 4,
  "nbformat_minor": 1
}