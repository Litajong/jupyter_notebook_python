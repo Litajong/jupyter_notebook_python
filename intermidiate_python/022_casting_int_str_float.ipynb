{
  "cells": [
    {
      "metadata": {
        "trusted": true
      },
      "cell_type": "code",
      "source": "# Casting use to change data type: int(), str(), float()\n# We can avoid the type error by casting to int, string, and float\n\nweight1 = '60' #a string\nweight2 = 170  #an integer\n\n# add 2 integers\ntotal_weight = int(weight1) + weight2\nprint(total_weight)",
      "execution_count": 4,
      "outputs": [
        {
          "output_type": "stream",
          "text": "230\n",
          "name": "stdout"
        }
      ]
    },
    {
      "metadata": {
        "trusted": true
      },
      "cell_type": "code",
      "source": "age_new_student = input(\"enter age: \") #input is always string\ngrade_age = float(age_new_student) + 3.75\nprint(\"age upon graduation will be\", grade_age)",
      "execution_count": 5,
      "outputs": [
        {
          "output_type": "stream",
          "name": "stdout",
          "text": "enter age: 19\nage upon graduation will be 22.75\n"
        }
      ]
    },
    {
      "metadata": {
        "trusted": true
      },
      "cell_type": "code",
      "source": "grade_age_msg = \"age upon graduation will be \" + str(grade_age)\nprint(grade_age_msg)",
      "execution_count": 8,
      "outputs": [
        {
          "output_type": "stream",
          "text": "age upon graduation will be 22.75\n",
          "name": "stdout"
        }
      ]
    },
    {
      "metadata": {
        "trusted": true
      },
      "cell_type": "code",
      "source": "# Task: casting with int() & str()\n\nstr_num_1 = \"11\"\nstr_num_2 = \"15\"\nstr_num_3 = 10\n# [ ] Add the 3 numbers as integers and print the result\nprint(int(str_num_1) + int(str_num_2) + str_num_3)",
      "execution_count": 10,
      "outputs": [
        {
          "output_type": "stream",
          "text": "36\n",
          "name": "stdout"
        }
      ]
    },
    {
      "metadata": {
        "trusted": true
      },
      "cell_type": "code",
      "source": "str_num_1 = \"11\"\nstr_num_2 = \"15\"\nint_num_3 = 10\n# [ ] Add the 3 numbers as test strings and print the result\nprint(str_num_1 + str_num_2 + str(str_num_3))",
      "execution_count": 12,
      "outputs": [
        {
          "output_type": "stream",
          "text": "111510\n",
          "name": "stdout"
        }
      ]
    },
    {
      "metadata": {
        "trusted": true
      },
      "cell_type": "code",
      "source": "# Program: adding using int casting\n# [ ] initialize str_integer variable to a string containing characters of an integer (quotes)\n# [ ] initialize int_number variable with an integer value (no quotes)\n# [ ] initialize number_total variable and add int_number + str_integer using int casting\n# [ ] print the sum (number_total)\n# [ ] code and test: adding using int casting\n\nstr_integer = \"2\"\nint_number = 10\nnumber_total = int(str_integer) + int_number\nprint(number_total)",
      "execution_count": 13,
      "outputs": [
        {
          "output_type": "stream",
          "text": "12\n",
          "name": "stdout"
        }
      ]
    },
    {
      "metadata": {
        "trusted": true
      },
      "cell_type": "code",
      "source": "",
      "execution_count": null,
      "outputs": []
    }
  ],
  "metadata": {
    "kernelspec": {
      "name": "python3",
      "display_name": "Python 3",
      "language": "python"
    },
    "language_info": {
      "mimetype": "text/x-python",
      "nbconvert_exporter": "python",
      "name": "python",
      "pygments_lexer": "ipython3",
      "version": "3.5.4",
      "file_extension": ".py",
      "codemirror_mode": {
        "version": 3,
        "name": "ipython"
      }
    }
  },
  "nbformat": 4,
  "nbformat_minor": 1
}