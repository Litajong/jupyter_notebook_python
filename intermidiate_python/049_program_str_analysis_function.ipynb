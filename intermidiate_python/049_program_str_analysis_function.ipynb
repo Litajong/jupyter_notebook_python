{
  "cells": [
    {
      "metadata": {
        "trusted": true
      },
      "cell_type": "code",
      "source": "# Program: str_analysis() Function\n# Create the str_analysis() function that takes a string argument. In the body of the function:\n\n# Check if string is digits\n# - if digits: convert to int and check if greater than 99\n#   - if greater than 99 print a message about a \"big number\"\n#   - if not greater than 99 print message about small number\n# - if not digits: check if string isalpha\n#   - if isalpha print message about being all alpha\n#   - if not isalpha print a message about being neither all alpha nor all digit\n# call the function with a string from user input",
      "execution_count": 1,
      "outputs": []
    },
    {
      "metadata": {
        "trusted": true
      },
      "cell_type": "code",
      "source": "user_letter = input(\"Enter a word or digit: \")\n\ndef str_analysis(letter):\n    if letter.isdigit() == True:\n        if int(letter) > 99:\n            print(letter, \" is a big number\")\n        else:\n            print(letter, \" is a small number\")\n    elif letter.isalpha() == True:\n        print(letter, \" is all alpha\")\n    else:\n        print(letter, \" is neither all alpha nor all digit\")\n\nstr_analysis(user_letter)\n        ",
      "execution_count": 5,
      "outputs": [
        {
          "output_type": "stream",
          "name": "stdout",
          "text": "Enter a word or digit: &_#\n&_#  is neither all alpha nor all digit\n"
        }
      ]
    },
    {
      "metadata": {
        "trusted": true
      },
      "cell_type": "code",
      "source": "",
      "execution_count": null,
      "outputs": []
    }
  ],
  "metadata": {
    "kernelspec": {
      "name": "python3",
      "display_name": "Python 3",
      "language": "python"
    },
    "language_info": {
      "mimetype": "text/x-python",
      "nbconvert_exporter": "python",
      "name": "python",
      "pygments_lexer": "ipython3",
      "version": "3.5.4",
      "file_extension": ".py",
      "codemirror_mode": {
        "version": 3,
        "name": "ipython"
      }
    }
  },
  "nbformat": 4,
  "nbformat_minor": 1
}