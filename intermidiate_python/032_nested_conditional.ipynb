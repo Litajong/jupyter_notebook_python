{
  "cells": [
    {
      "metadata": {
        "trusted": true
      },
      "cell_type": "code",
      "source": "# Nested conditionals\n\n# if\n#    if\n#       if\n#       else\n#    else\n# else",
      "execution_count": 1,
      "outputs": []
    },
    {
      "metadata": {
        "trusted": true
      },
      "cell_type": "code",
      "source": "# set number to 1, 2, or 3\n\nnumber = 1\n\nif number >= 2:\n    if number > 2:\n        print(\"number is 3\")\n    else:\n        print(\"number is 2\")\nelse:\n    print(\"number is 1\")",
      "execution_count": 2,
      "outputs": [
        {
          "output_type": "stream",
          "text": "number is 1\n",
          "name": "stdout"
        }
      ]
    },
    {
      "metadata": {
        "trusted": true
      },
      "cell_type": "code",
      "source": "number = 2\n\nif number >= 2:\n    if number > 2:\n        print(\"number is 3\")\n    else:\n        print(\"number is 2\")\nelse:\n    print(\"number is 1\")",
      "execution_count": 4,
      "outputs": [
        {
          "output_type": "stream",
          "text": "number is 2\n",
          "name": "stdout"
        }
      ]
    },
    {
      "metadata": {
        "trusted": true
      },
      "cell_type": "code",
      "source": "number = 3\n\nif number >= 2:\n    if number > 2:\n        print(\"number is 3\")\n    else:\n        print(\"number is 2\")\nelse:\n    print(\"number is 1\")",
      "execution_count": 7,
      "outputs": [
        {
          "output_type": "stream",
          "text": "number is 3\n",
          "name": "stdout"
        }
      ]
    },
    {
      "metadata": {
        "trusted": true
      },
      "cell_type": "code",
      "source": "",
      "execution_count": null,
      "outputs": []
    }
  ],
  "metadata": {
    "kernelspec": {
      "name": "python3",
      "display_name": "Python 3",
      "language": "python"
    },
    "language_info": {
      "mimetype": "text/x-python",
      "nbconvert_exporter": "python",
      "name": "python",
      "pygments_lexer": "ipython3",
      "version": "3.5.4",
      "file_extension": ".py",
      "codemirror_mode": {
        "version": 3,
        "name": "ipython"
      }
    }
  },
  "nbformat": 4,
  "nbformat_minor": 1
}