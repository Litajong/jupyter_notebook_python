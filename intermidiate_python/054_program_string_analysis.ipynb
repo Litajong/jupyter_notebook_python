{
  "cells": [
    {
      "metadata": {
        "trusted": true
      },
      "cell_type": "code",
      "source": "# Program: str_analysis() Function\n# Create the str_analysis() function that takes 1 string argument and returns a string message. The message will be an analysis of a test string that is passed as an argument to str_analysis(). The function should respond with messages such as:\n\n# \"big number\"\n# \"small number\"\n# \"all alphabetic\"\n# \"multiple character types\"\n# The program will call str_analysis() with a string argument from input collected within a while loop. The while loop will test if input is empty (an empty string \"\") and continue to loop and gather input until the user submits at least 1 character (input cannot be empty).\n\n# The program then calls the str_analysis() function and prints the return message.",
      "execution_count": null,
      "outputs": []
    },
    {
      "metadata": {
        "trusted": true
      },
      "cell_type": "code",
      "source": "def str_analysis():\n    while True:\n        your_message = input(\"enter word or integer: \")  \n        if len(your_message) > 0:\n            if your_message.isdigit():\n                if int(your_message) >= 100:\n                    print(your_message, \"is a pretty big number!\")\n                else: \n                    print(your_message, \"is a smaller number than expected\")\n            elif your_message.lower().isalpha():\n                print(your_message, \"is all alphabetic characters!\")\n            else:\n                print(your_message, \"is a surprise! It's neither all alpha nor all digit characters!\")\n            break    \n\nstr_analysis()",
      "execution_count": 1,
      "outputs": [
        {
          "output_type": "stream",
          "name": "stdout",
          "text": "enter word or integer: 5000\n5000 is a pretty big number!\n"
        }
      ]
    },
    {
      "metadata": {
        "trusted": true
      },
      "cell_type": "code",
      "source": "",
      "execution_count": null,
      "outputs": []
    }
  ],
  "metadata": {
    "kernelspec": {
      "name": "python3",
      "display_name": "Python 3",
      "language": "python"
    },
    "language_info": {
      "mimetype": "text/x-python",
      "nbconvert_exporter": "python",
      "name": "python",
      "pygments_lexer": "ipython3",
      "version": "3.5.4",
      "file_extension": ".py",
      "codemirror_mode": {
        "version": 3,
        "name": "ipython"
      }
    }
  },
  "nbformat": 4,
  "nbformat_minor": 1
}