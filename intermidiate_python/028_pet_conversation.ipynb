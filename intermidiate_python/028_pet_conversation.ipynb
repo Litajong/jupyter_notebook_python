{
 "cells": [
  {
   "cell_type": "code",
   "execution_count": 29,
   "metadata": {},
   "outputs": [
    {
     "name": "stdout",
     "output_type": "stream",
     "text": [
      "Tell me about your pet story :cat and dog\n",
      "Ah, a dog.\n",
      "And cat as well.\n",
      "Appreciate your pet story\n"
     ]
    }
   ],
   "source": [
    "# Pet Conversation\n",
    "# ask the user for a sentence about a pet and then reply\n",
    "\n",
    "# get user input in variable: about_pet\n",
    "# using a series of if statements respond with appropriate conversation\n",
    "# - check if \"dog\" is in the string about_pet (sample reply \"Ah, a dog\")\n",
    "# - check if \"cat\" is in the string about_pet\n",
    "# - check if 1 or more animal is in string about_pet\n",
    "# - no need for else's\n",
    "# - finish with thanking for the story\n",
    "# [ ] complete pet conversation\n",
    "\n",
    "about_pet = input(\"Tell me about your pet story :\").lower()\n",
    "\n",
    "if \"dog\" in about_pet:\n",
    "    print(\"Ah, a dog.\")\n",
    "    if \"cat\" in about_pet:\n",
    "        print(\"And cat as well.\")\n",
    "elif \"cat\" in about_pet:\n",
    "    print(\"Ah, a cat.\")\n",
    "    if \"dog\" in about_pet:\n",
    "        print(\"And dog as well.\")\n",
    "    \n",
    "print(\"Appreciate your pet story\")"
   ]
  }
 ],
 "metadata": {
  "kernelspec": {
   "display_name": "Python 3",
   "language": "python",
   "name": "python3"
  },
  "language_info": {
   "codemirror_mode": {
    "name": "ipython",
    "version": 3
   },
   "file_extension": ".py",
   "mimetype": "text/x-python",
   "name": "python",
   "nbconvert_exporter": "python",
   "pygments_lexer": "ipython3",
   "version": "3.5.4"
  }
 },
 "nbformat": 4,
 "nbformat_minor": 1
}
