{
 "cells": [
  {
   "cell_type": "code",
   "execution_count": 11,
   "metadata": {},
   "outputs": [],
   "source": [
    "# Program: bird_available: ask for user to \"input a bird name to check for availability\" and print a statement informing of availability\n",
    "# create this program with a Boolean function bird_available()\n",
    "# has parameter that takes the name of a type of bird\n",
    "# for this exercise the variable bird_types = 'crow robin parrot eagle sandpiper hawk pigeon'\n",
    "# return True or False (we are making a Boolean function)\n",
    "# call the function using the name of a bird type from user input\n",
    "# print a sentence that indicates the availability of the type of bird checked"
   ]
  },
  {
   "cell_type": "code",
   "execution_count": 21,
   "metadata": {},
   "outputs": [
    {
     "name": "stdout",
     "output_type": "stream",
     "text": [
      "Enter bird type to search :Crow\n",
      "Crow available is  True\n"
     ]
    }
   ],
   "source": [
    "# create function bird_available\n",
    "\n",
    "def bird_available(bird):\n",
    "    bird_types = 'crow, robin, parrot, eagle, sandpiper, hawk, pigeon'\n",
    "    return(bird.lower() in bird_types)\n",
    "\n",
    "# user input\n",
    "bird_search = input(\"Enter bird type to search :\")\n",
    "\n",
    "# call bird_available\n",
    "have_bird = bird_available(bird_search)\n",
    "\n",
    "# print availability status\n",
    "print(bird_search, \"available is \",have_bird)"
   ]
  },
  {
   "cell_type": "code",
   "execution_count": 22,
   "metadata": {},
   "outputs": [
    {
     "ename": "SyntaxError",
     "evalue": "invalid syntax (<ipython-input-22-74367bf1cc8f>, line 3)",
     "output_type": "error",
     "traceback": [
      "\u001b[0;36m  File \u001b[0;32m\"<ipython-input-22-74367bf1cc8f>\"\u001b[0;36m, line \u001b[0;32m3\u001b[0m\n\u001b[0;31m    how_many():\u001b[0m\n\u001b[0m              ^\u001b[0m\n\u001b[0;31mSyntaxError\u001b[0m\u001b[0;31m:\u001b[0m invalid syntax\n"
     ]
    }
   ],
   "source": [
    "# Task: Fix the error\n",
    "# define function how_many\n",
    "how_many():\n",
    "    requested = input(\"enter how many you want: \")\n",
    "    return requested\n",
    "\n",
    "# get the number_needed\n",
    "number_needed = how_many()\n",
    "print(number_needed, \"will be ordered\")"
   ]
  },
  {
   "cell_type": "code",
   "execution_count": 23,
   "metadata": {},
   "outputs": [
    {
     "name": "stdout",
     "output_type": "stream",
     "text": [
      "enter how many you want: 20\n",
      "20 will be ordered\n"
     ]
    }
   ],
   "source": [
    "def how_many():\n",
    "    requested = input(\"enter how many you want: \")\n",
    "    return requested\n",
    "\n",
    "number_needed = how_many()\n",
    "print(number_needed, \"will be ordered\")"
   ]
  },
  {
   "cell_type": "code",
   "execution_count": null,
   "metadata": {},
   "outputs": [],
   "source": []
  }
 ],
 "metadata": {
  "kernelspec": {
   "display_name": "Python 3",
   "language": "python",
   "name": "python3"
  },
  "language_info": {
   "codemirror_mode": {
    "name": "ipython",
    "version": 3
   },
   "file_extension": ".py",
   "mimetype": "text/x-python",
   "name": "python",
   "nbconvert_exporter": "python",
   "pygments_lexer": "ipython3",
   "version": "3.5.4"
  }
 },
 "nbformat": 4,
 "nbformat_minor": 1
}
