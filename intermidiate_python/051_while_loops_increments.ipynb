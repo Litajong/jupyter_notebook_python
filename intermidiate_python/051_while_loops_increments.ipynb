{
  "cells": [
    {
      "metadata": {
        "trusted": true
      },
      "cell_type": "code",
      "source": "# Practice: while() loops & increments\n\n# [ ] use a \"forever\" while loop to get user input of integers to add to sum, \n# until a non-digit is entered, then break the loop and print sum\n\nsum = 0\ncheck = True\n\nwhile check:\n    your_digit = input('enter your digit or \"q\" to quit: ')\n    if (your_digit.lower() == \"q\"):\n        check = False\n    else:\n        sum = sum + int(your_digit) \n\nprint(\"Sum total: \", sum)",
      "execution_count": 14,
      "outputs": [
        {
          "output_type": "stream",
          "name": "stdout",
          "text": "enter your digit or \"q\" to quit: 5\nenter your digit or \"q\" to quit: 7\nenter your digit or \"q\" to quit: 9\nenter your digit or \"q\" to quit: 4\nenter your digit or \"q\" to quit: 7\nenter your digit or \"q\" to quit: 9\nenter your digit or \"q\" to quit: q\nSum total:  41\n"
        }
      ]
    },
    {
      "metadata": {
        "trusted": true
      },
      "cell_type": "code",
      "source": "# [ ] use a while True loop (forever loop) to give 4 chances for input of a correct color in a rainbow\n\nrainbow = [\"red\", \"orange\", \"yellow\", \"green\", \"blue\", \"indigo\", \"violet\"]\n\nguess_num = 4\n\nwhile guess_num > 0:\n    color_guess = input(\"enter a rainbow color: \")\n    if color_guess in rainbow:\n        print(\"Yes!\", color_guess, \" is in the rainbow\")\n        break\n    else:\n        guess_num -= 1\n        if guess_num == 0:\n            print(\"Try again tomorrow!\")",
      "execution_count": 15,
      "outputs": [
        {
          "output_type": "stream",
          "name": "stdout",
          "text": "enter a rainbow color: pink\nenter a rainbow color: naby\nenter a rainbow color: red\nYes! red  is in the rainbow\n"
        }
      ]
    },
    {
      "metadata": {
        "trusted": true
      },
      "cell_type": "code",
      "source": "",
      "execution_count": null,
      "outputs": []
    }
  ],
  "metadata": {
    "kernelspec": {
      "name": "python3",
      "display_name": "Python 3",
      "language": "python"
    },
    "language_info": {
      "mimetype": "text/x-python",
      "nbconvert_exporter": "python",
      "name": "python",
      "pygments_lexer": "ipython3",
      "version": "3.5.4",
      "file_extension": ".py",
      "codemirror_mode": {
        "version": 3,
        "name": "ipython"
      }
    }
  },
  "nbformat": 4,
  "nbformat_minor": 1
}