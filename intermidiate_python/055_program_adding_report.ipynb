{
  "cells": [
    {
      "metadata": {
        "trusted": true
      },
      "cell_type": "code",
      "source": "# Program: adding_report()\n# initialize total variable which will sum integer values entered\n# initialize items variable which will build a string of the integer inputs separated with a new line character\n# define the adding_report function with one parameter report that will be a string with default of \"T\"\n# inside the function build a forever loop (infinite while loop) and inside the loop complete the following\n\n# use a variable to gather input (integer or \"Q\")\n# check if the input string is a digit (integer) and if it is...\n# add input iteger to total\n# if report type is \"A\" add the numeric character(s) to the item string seperated by a new line\n# if not a digit, check if the input string is \"Q\" or starts with a \"Q\", if \"Q\" then...\n# if the report type is \"A\" print out all the integer items entered and the sum total\n# if report type is \"T\" then print out the sum total only\n# break out of while loop to end the function after printing the report (\"A\" or \"T\")\n# if not a digit and if not a \"Q\" then print a message that the \"input is invalid\"\n# Call the adding_report function with \"A\" and then with \"T\" report parameters\n\n\ndef adding_report():\n    total = 0\n    item = []\n    report_type = input('Choose Report Type (\"A\" for adding report \"T\" for total report): ')\n    while True:\n        user_input = input('Enter an integer or \"Q\" to quit: ' )\n        if user_input.isdigit():\n            total += int(user_input)\n            if report_type.lower() == \"a\":\n                item.append(user_input)\n        elif user_input.lower() == \"q\":\n            if report_type.lower() == \"a\":\n                print(\"Item\")\n                for i in range(len(item)):\n                    print(item[i])\n                print(\"Total\")\n                print(total)\n                break\n            else:\n                print(\"Total\")\n                print(total)\n                break\n        else:\n            print(\"Invalid input\")\n\nadding_report()",
      "execution_count": 1,
      "outputs": [
        {
          "output_type": "stream",
          "name": "stdout",
          "text": "Choose Report Type (\"A\" for adding report \"T\" for total report): a\nEnter an integer or \"Q\" to quit: 10\nEnter an integer or \"Q\" to quit: 20\nEnter an integer or \"Q\" to quit: 30\nEnter an integer or \"Q\" to quit: 40\nEnter an integer or \"Q\" to quit: r\nInvalid input\nEnter an integer or \"Q\" to quit: q\nItem\n10\n20\n30\n40\nTotal\n100\n"
        }
      ]
    },
    {
      "metadata": {
        "trusted": true
      },
      "cell_type": "code",
      "source": "",
      "execution_count": null,
      "outputs": []
    }
  ],
  "metadata": {
    "kernelspec": {
      "name": "python3",
      "display_name": "Python 3",
      "language": "python"
    },
    "language_info": {
      "mimetype": "text/x-python",
      "nbconvert_exporter": "python",
      "name": "python",
      "file_extension": ".py",
      "version": "3.5.4",
      "pygments_lexer": "ipython3",
      "codemirror_mode": {
        "version": 3,
        "name": "ipython"
      }
    }
  },
  "nbformat": 4,
  "nbformat_minor": 1
}