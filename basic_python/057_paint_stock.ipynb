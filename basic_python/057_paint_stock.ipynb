{
 "cells": [
  {
   "cell_type": "code",
   "execution_count": 2,
   "metadata": {},
   "outputs": [
    {
     "name": "stdout",
     "output_type": "stream",
     "text": [
      "Search color: pink\n",
      "Sorry, your color is NOT in stock. Try again\n"
     ]
    }
   ],
   "source": [
    "# Program: Paint Stock\n",
    "# check a list for a paint color request and print status of color \"found\"/\"not found\"\n",
    "\n",
    "# create list, paint_colors, with 5+ colors\n",
    "# get user input of string:color_request\n",
    "# iterate through each color in paint_colors to check for a match with color_request\n",
    "# complete paint stock\n",
    "\n",
    "paint_colors = [\"red\", \"green\", \"yellow\", \"grey\", \"black\"]\n",
    "color_search = input(\"Search color: \")\n",
    "in_stock = \"\"\n",
    "\n",
    "for color in paint_colors:\n",
    "    if color_search.lower() == color:\n",
    "        print(\"Your color,\", color +\",\",\"is in stock.\")\n",
    "        in_stock = \"yes\"\n",
    "        break\n",
    "        \n",
    "if in_stock == \"\":\n",
    "    print(\"Sorry, your color is NOT in stock. Try again\")"
   ]
  }
 ],
 "metadata": {
  "kernelspec": {
   "display_name": "Python 3",
   "language": "python",
   "name": "python3"
  },
  "language_info": {
   "codemirror_mode": {
    "name": "ipython",
    "version": 3
   },
   "file_extension": ".py",
   "mimetype": "text/x-python",
   "name": "python",
   "nbconvert_exporter": "python",
   "pygments_lexer": "ipython3",
   "version": "3.5.4"
  }
 },
 "nbformat": 4,
 "nbformat_minor": 1
}
