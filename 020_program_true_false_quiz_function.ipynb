{
  "cells": [
    {
      "metadata": {
        "trusted": true
      },
      "cell_type": "code",
      "source": "# Task: comparison operators with if\n# [ ] get input for a variable, answer, and ask user 'What is 8 + 13? : '\n# [ ] print messages for correct answer \"21\" or incorrect answer using if/else\n# note: input returns a \"string\"\n\nanswer = input(\"What is 8 + 13? :\")\n\nif answer == \"21\":\n    print('Excellent! The anser is \"21\"')\nelse:\n    print('Ohh no.... The anser is \"21\"')",
      "execution_count": 1,
      "outputs": [
        {
          "output_type": "stream",
          "name": "stdout",
          "text": "What is 8 + 13? :33\nOhh no.... The anser is \"21\"\n"
        }
      ]
    },
    {
      "metadata": {
        "trusted": true
      },
      "cell_type": "code",
      "source": "# Program: True False Quiz Function\n# Call the tf_quiz function with 2 arguments\n\n# T/F question string\n# answer key string like \"T\"\n# Return a string: \"correct\" or incorrect\"\n\n\ndef tf_quiz(question, key):\n    answer = input(\"(T/F) \" + question + \": \")\n    if answer.lower() == key.lower():\n        return \"correct\"\n    else:\n        return \"incorrect\"\n    \nquiz_eval = tf_quiz(\"New York is capital city of USA\", \"F\")\nprint(\"Your answer is\", quiz_eval)",
      "execution_count": 2,
      "outputs": [
        {
          "output_type": "stream",
          "name": "stdout",
          "text": "(T/F) New York is capital city of USA: F\nYour answer is correct\n"
        }
      ]
    },
    {
      "metadata": {
        "trusted": true
      },
      "cell_type": "code",
      "source": "",
      "execution_count": null,
      "outputs": []
    }
  ],
  "metadata": {
    "kernelspec": {
      "name": "python3",
      "display_name": "Python 3",
      "language": "python"
    },
    "language_info": {
      "mimetype": "text/x-python",
      "nbconvert_exporter": "python",
      "name": "python",
      "file_extension": ".py",
      "version": "3.5.4",
      "pygments_lexer": "ipython3",
      "codemirror_mode": {
        "version": 3,
        "name": "ipython"
      }
    }
  },
  "nbformat": 4,
  "nbformat_minor": 1
}